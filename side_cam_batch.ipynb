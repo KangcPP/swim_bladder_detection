{
 "cells": [
  {
   "cell_type": "code",
   "execution_count": 1,
   "id": "f745c268-23b4-4303-9d48-6910f2e94f89",
   "metadata": {},
   "outputs": [],
   "source": [
    "import json\n",
    "with open(\"D:\\\\git\\\\visual_fishes_kai.json\", 'r') as file:\n",
    "    fish_trials = json.load(file)\n",
    "\n",
    "\n",
    "side_cam_trials = list(fish_trials.keys())"
   ]
  },
  {
   "cell_type": "code",
   "execution_count": 3,
   "id": "dbb9a8af-7841-488e-bf14-a61fabce7ae4",
   "metadata": {},
   "outputs": [
    {
     "data": {
      "text/plain": [
       "153"
      ]
     },
     "execution_count": 3,
     "metadata": {},
     "output_type": "execute_result"
    }
   ],
   "source": [
    "len(side_cam)"
   ]
  },
  {
   "cell_type": "code",
   "execution_count": null,
   "id": "34aa6cda-660e-4e54-b7b6-ad4767b62fdc",
   "metadata": {},
   "outputs": [],
   "source": []
  }
 ],
 "metadata": {
  "kernelspec": {
   "display_name": "Python 3 (ipykernel)",
   "language": "python",
   "name": "python3"
  },
  "language_info": {
   "codemirror_mode": {
    "name": "ipython",
    "version": 3
   },
   "file_extension": ".py",
   "mimetype": "text/x-python",
   "name": "python",
   "nbconvert_exporter": "python",
   "pygments_lexer": "ipython3",
   "version": "3.13.1"
  }
 },
 "nbformat": 4,
 "nbformat_minor": 5
}
