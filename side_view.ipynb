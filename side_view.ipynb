{
 "cells": [
  {
   "cell_type": "code",
   "execution_count": 1,
   "id": "ee60dc2e-6255-4eca-bd31-8610f1083da1",
   "metadata": {},
   "outputs": [],
   "source": [
    "import cv2 as cv\n",
    "import numpy as np\n",
    "import matplotlib.pyplot as plt\n",
    "from scipy.signal import find_peaks\n",
    "import seaborn as sns\n",
    "from scipy import stats\n",
    "import os\n",
    "import re\n",
    "import pickle\n",
    "import imutils\n",
    "from scipy.signal import find_peaks, savgol_filter\n",
    "from pathlib import Path\n",
    "import glob\n",
    "from pathlib import Path\n",
    "import pandas as pd\n",
    "from sklearn.mixture import GaussianMixture\n",
    "from scipy import signal\n",
    "from numpy.lib.stride_tricks import sliding_window_view"
   ]
  },
  {
   "cell_type": "code",
   "execution_count": 2,
   "id": "f6b6df03-79be-40b0-82da-435208e1bd47",
   "metadata": {},
   "outputs": [],
   "source": [
    "def init_condition(avis, x, y):\n",
    "    capture = cv.VideoCapture(avis)\n",
    "    _, frame1 = capture.read()\n",
    "    \n",
    "    # Crop to the selected 50x50 region\n",
    "    frame1 = frame1[y:y+50, x:x+50]\n",
    "    \n",
    "    num_frames = int(capture.get(cv.CAP_PROP_FRAME_COUNT))\n",
    "    hsv = np.zeros_like(frame1)\n",
    "    hsv[..., 1] = 255  # Set saturation channel\n",
    "    \n",
    "    return capture, num_frames, hsv"
   ]
  },
  {
   "cell_type": "code",
   "execution_count": 33,
   "id": "9053bcf7-af55-4195-9c0c-70db7cce9aab",
   "metadata": {},
   "outputs": [],
   "source": [
    "def select_roi_interactive(avis):\n",
    "    roi_x = 80\n",
    "    roi_y = 50\n",
    "    # Initialize video capture\n",
    "    capture = cv.VideoCapture(avis)\n",
    "    ret, frame = capture.read()\n",
    "    if not ret:\n",
    "        raise ValueError(\"Failed to read video\")\n",
    "    \n",
    "    # Variables to store ROI coordinates\n",
    "    roi_selected = False\n",
    "    x_center, y_center = -1, -1\n",
    "\n",
    "    # Mouse callback function\n",
    "    def mouse_callback(event, x, y, flags, param):\n",
    "        nonlocal roi_selected, x_center, y_center\n",
    "        if event == cv.EVENT_LBUTTONDOWN:\n",
    "            x_center, y_center = x, y\n",
    "            roi_selected = True\n",
    "\n",
    "    # Create window and set mouse callback\n",
    "    cv.namedWindow(\"Select ROI Center\")\n",
    "    cv.setMouseCallback(\"Select ROI Center\", mouse_callback)\n",
    "\n",
    "    while True:\n",
    "        display_frame = frame.copy()\n",
    "        if roi_selected:\n",
    "            # Ensure ROI stays within frame boundaries\n",
    "            x = max(0, min(x_center - int(roi_x/2), frame.shape[1] - roi_x))\n",
    "            y = max(0, min(y_center - int(roi_y/2), frame.shape[0] - roi_y))\n",
    "            \n",
    "            # Draw the 50x50 ROI rectangle\n",
    "            cv.rectangle(display_frame, (x, y), (x+roi_x, y+roi_y), (0, 255, 0), 2)\n",
    "            \n",
    "            # Show cropped preview in a new window\n",
    "            cropped_preview = frame[y:y+roi_y, x:x+roi_x]\n",
    "            cv.imshow(\"Cropped Preview\", cropped_preview)\n",
    "        \n",
    "        cv.imshow(\"Select ROI Center\", display_frame)\n",
    "        key = cv.waitKey(1) & 0xFF\n",
    "        if key == ord('q') and roi_selected:  # Press 'q' to confirm\n",
    "            break\n",
    "        elif key == 27:  # Press ESC to exit\n",
    "            cv.destroyAllWindows()\n",
    "            capture.release()\n",
    "            return None, None\n",
    "\n",
    "    cv.destroyAllWindows()\n",
    "    capture.release()\n",
    "    \n",
    "    # Final ROI coordinates (top-left corner)\n",
    "    x = max(0, min(x_center - int(roi_x/2), frame.shape[1] - roi_x))\n",
    "    y = max(0, min(y_center - int(roi_y/2), frame.shape[0] - roi_y))\n",
    "    return x, y"
   ]
  },
  {
   "cell_type": "code",
   "execution_count": 34,
   "id": "1161a407-65dc-4604-aa5e-ce543ca6617e",
   "metadata": {},
   "outputs": [],
   "source": [
    "def load_significant_frames(video_path, significant_indices):\n",
    "    \"\"\"Load frames that exceeded the MSE threshold\"\"\"\n",
    "    cap = cv.VideoCapture(video_path)\n",
    "    significant_frames = []\n",
    "    \n",
    "    for idx in tqdm(range(int(cap.get(cv.CAP_PROP_FRAME_COUNT)))):\n",
    "        ret, frame = cap.read()\n",
    "        if not ret:\n",
    "            break\n",
    "        frame = frame[y_cord:y_cord+50, x_cord:x_cord+80]\n",
    "        if idx in significant_indices:\n",
    "            significant_frames.append(frame)\n",
    "    \n",
    "    cap.release()\n",
    "    return significant_frames"
   ]
  },
  {
   "cell_type": "code",
   "execution_count": 35,
   "id": "6c05f7e0-22d8-41d1-833b-3db2779e0ca2",
   "metadata": {},
   "outputs": [],
   "source": [
    "def noise_detection(smoothed_signal, noise_window=10,\n",
    "                             min_duration=3, prominence_factor=2.0):\n",
    "    # 1. Estimate noise characteristics using rolling baseline\n",
    "    noise_estimates = []\n",
    "    for i in range(len(smoothed_signal)):\n",
    "        start = max(0, i - noise_window)\n",
    "        end = min(len(smoothed_signal), i + noise_window)\n",
    "        noise_estimates.append(np.std(smoothed_signal[start:end]))\n",
    "    \n",
    "    noise_std = np.median(noise_estimates)  # Robust noise estimate\n",
    "    return noise_std"
   ]
  },
  {
   "cell_type": "code",
   "execution_count": 36,
   "id": "f774385d-2038-4554-a555-20dd532f7dd3",
   "metadata": {},
   "outputs": [],
   "source": [
    "def cfar_fast(\n",
    "    x: np.ndarray,\n",
    "    num_ref_cells: int,\n",
    "    num_guard_cells: int,\n",
    "    bias: float = 1,\n",
    "    method=np.mean,\n",
    "):\n",
    "    pad = int((num_ref_cells + num_guard_cells))\n",
    "    # fmt: off\n",
    "    window_mean = np.pad(                                                                   # Pad front/back since n_windows < n_points\n",
    "        method(                                                                             # Apply input method to remaining compute cells\n",
    "            np.delete(                                                                      # Remove guard cells, CUT from computation\n",
    "                sliding_window_view(x, (num_ref_cells * 2) + (num_guard_cells * 2)),        # Windows of x including CUT, guard cells, and compute cells\n",
    "                np.arange(int(num_ref_cells), num_ref_cells + (num_guard_cells * 2) + 1),   # Get indices of guard cells, CUT\n",
    "                axis=1),\n",
    "            axis=1\n",
    "        ), (pad - 1, pad),\n",
    "        constant_values=(np.nan, np.nan)                                                    # Fill with NaNs\n",
    "    ) + bias                                                                             \n",
    "    # fmt: on\n",
    "    return window_mean"
   ]
  },
  {
   "cell_type": "code",
   "execution_count": 37,
   "id": "25143ec7-8c60-44d4-bb48-34dd2ff828bf",
   "metadata": {},
   "outputs": [
    {
     "data": {
      "text/plain": [
       "['G:\\\\Temp_opto\\\\2024-08-01\\\\lcr\\\\SIDECAMERA\\\\F4\\\\F4_01\\\\FLIR_2024-08-01_F4_01-T1-0000.avi',\n",
       " 'G:\\\\Temp_opto\\\\2024-08-01\\\\lcr\\\\SIDECAMERA\\\\F4\\\\F4_01\\\\FLIR_2024-08-01_F4_01-T2-0000.avi',\n",
       " 'G:\\\\Temp_opto\\\\2024-08-01\\\\lcr\\\\SIDECAMERA\\\\F4\\\\F4_01\\\\FLIR_2024-08-01_F4_01-T3-0000.avi',\n",
       " 'G:\\\\Temp_opto\\\\2024-08-01\\\\lcr\\\\SIDECAMERA\\\\F4\\\\F4_01\\\\FLIR_2024-08-01_F4_01-T4-0000.avi',\n",
       " 'G:\\\\Temp_opto\\\\2024-08-01\\\\lcr\\\\SIDECAMERA\\\\F4\\\\F4_omr\\\\FLIR_2024-08-01_F4_omr-T1-0000.avi',\n",
       " 'G:\\\\Temp_opto\\\\2024-08-01\\\\lcr\\\\SIDECAMERA\\\\F4\\\\F4_pretest\\\\FLIR_2024-08-01_F4_pretest-T1-0000.avi']"
      ]
     },
     "execution_count": 37,
     "metadata": {},
     "output_type": "execute_result"
    }
   ],
   "source": [
    "fish_date = \"2024-08-01\"\n",
    "no = \"F4\"\n",
    "main_dir = f\"G:\\\\Temp_opto\\\\{fish_date}\\\\lcr\\\\SIDECAMERA\\\\{no}\\\\\"\n",
    "avis = glob.glob(f\"{main_dir}/**/**.avi\")\n",
    "avis = [str(Path(avi).resolve()) for avi in avis]\n",
    "avis"
   ]
  },
  {
   "cell_type": "code",
   "execution_count": 38,
   "id": "996df17c-503f-4986-9a77-0407be12f9d2",
   "metadata": {},
   "outputs": [],
   "source": [
    "set_no = 1\n",
    "avi = avis[set_no - 1]\n",
    "fish_id = fish_date + '-' + no\n",
    "\n",
    "save_dir = f\"G:/swim_motion_data/lcr/side_cam/{fish_id}/T{set_no}\"\n",
    "Path(save_dir).mkdir(parents=True, exist_ok = True)"
   ]
  },
  {
   "cell_type": "code",
   "execution_count": 39,
   "id": "0c831edb-dafb-4b6d-9e11-a4ccdb92046e",
   "metadata": {},
   "outputs": [],
   "source": [
    "x_cord, y_cord = select_roi_interactive(avi)\n",
    "capture, num_frames, hsv = init_condition(avi, x_cord, y_cord)"
   ]
  },
  {
   "cell_type": "code",
   "execution_count": 41,
   "id": "e6d9bb91-f854-4f7c-b4d9-30599689276c",
   "metadata": {},
   "outputs": [
    {
     "data": {
      "image/png": "[encoded data removed]",
      "text/plain": [
       "<Figure size 640x480 with 1 Axes>"
      ]
     },
     "metadata": {},
     "output_type": "display_data"
    }
   ],
   "source": [
    "#preview the cropped video\n",
    "capture.set(cv.CAP_PROP_POS_FRAMES, 1)\n",
    "\n",
    "# Read and crop the first frame again\n",
    "ret, frame = capture.read()\n",
    "if ret:\n",
    "    cropped_frame = frame[y_cord:y_cord+50, x_cord:x_cord+80] ########\n",
    "    plt.imshow(cropped_frame)\n",
    "    "
   ]
  },
  {
   "cell_type": "code",
   "execution_count": 23,
   "id": "582b01be-43f1-41a6-977a-24e4c4b79e1f",
   "metadata": {},
   "outputs": [
    {
     "name": "stderr",
     "output_type": "stream",
     "text": [
      "100%|█████████████████████████████████████████████████████████████████████████▉| 97997/97999 [00:43<00:00, 2263.67it/s]\n"
     ]
    }
   ],
   "source": [
    "from tqdm import tqdm\n",
    "mseval = np.zeros(num_frames - 1)  # Preallocate array\n",
    "\n",
    "\n",
    "ret, prev_frame = capture.read()\n",
    "prev_frame = prev_frame[y_cord:y_cord+50, x_cord:x_cord+70]\n",
    "prev_gray = cv.cvtColor(prev_frame, cv.COLOR_BGR2GRAY).astype(np.float32)\n",
    "\n",
    "for i in tqdm(range(1, num_frames)):\n",
    "    ret, curr_frame = capture.read()\n",
    "    if not ret:\n",
    "        break\n",
    "        \n",
    "    curr_frame = curr_frame[y_cord:y_cord+50, x_cord:x_cord+70]\n",
    "    curr_gray = cv.cvtColor(curr_frame, cv.COLOR_BGR2GRAY).astype(np.float32)\n",
    "\n",
    "    diff = curr_gray - prev_gray\n",
    "    mse = np.mean(diff ** 2)\n",
    "    mseval[i-1] = mse \n",
    "    \n",
    "    prev_gray = curr_gray.copy()"
   ]
  },
  {
   "cell_type": "code",
   "execution_count": 24,
   "id": "022cc097-a198-4c5c-b428-cd30f0e0c405",
   "metadata": {},
   "outputs": [
    {
     "data": {
      "text/plain": [
       "Text(0.5, 0, 'Frames')"
      ]
     },
     "execution_count": 24,
     "metadata": {},
     "output_type": "execute_result"
    },
    {
     "data": {
      "image/png": "[encoded data removed]",
      "text/plain": [
       "<Figure size 640x480 with 1 Axes>"
      ]
     },
     "metadata": {},
     "output_type": "display_data"
    }
   ],
   "source": [
    "plt.plot(mseval)\n",
    "plt.xlabel(\"Frames\")"
   ]
  },
  {
   "cell_type": "code",
   "execution_count": 25,
   "id": "f38da783-b3bf-4f4c-a40e-21426bd567c8",
   "metadata": {},
   "outputs": [
    {
     "name": "stderr",
     "output_type": "stream",
     "text": [
      "C:\\Users\\kangy\\AppData\\Local\\Temp\\ipykernel_14284\\2437434700.py:1: FutureWarning: \n",
      "\n",
      "`shade` is now deprecated in favor of `fill`; setting `fill=True`.\n",
      "This will become an error in seaborn v0.14.0; please update your code.\n",
      "\n",
      "  sns.kdeplot(mseval, shade=True,color='crimson', label='KDE')\n"
     ]
    },
    {
     "data": {
      "text/plain": [
       "<Axes: ylabel='Density'>"
      ]
     },
     "execution_count": 25,
     "metadata": {},
     "output_type": "execute_result"
    },
    {
     "data": {
      "image/png": "[encoded data removed]",
      "text/plain": [
       "<Figure size 640x480 with 1 Axes>"
      ]
     },
     "metadata": {},
     "output_type": "display_data"
    }
   ],
   "source": [
    "sns.kdeplot(mseval, shade=True,color='crimson', label='KDE')"
   ]
  },
  {
   "cell_type": "code",
   "execution_count": 26,
   "id": "89b979b8-800d-4dd7-abe9-fbf7011870e5",
   "metadata": {},
   "outputs": [
    {
     "ename": "IndexError",
     "evalue": "index 1 is out of bounds for axis 0 with size 1",
     "output_type": "error",
     "traceback": [
      "\u001b[1;31m---------------------------------------------------------------------------\u001b[0m",
      "\u001b[1;31mIndexError\u001b[0m                                Traceback (most recent call last)",
      "Cell \u001b[1;32mIn[26], line 11\u001b[0m\n\u001b[0;32m      9\u001b[0m \u001b[38;5;66;03m#### peak\u001b[39;00m\n\u001b[0;32m     10\u001b[0m peaks, _ \u001b[38;5;241m=\u001b[39m find_peaks(y)  \u001b[38;5;66;03m# Adjust `prominence` as needed\u001b[39;00m\n\u001b[1;32m---> 11\u001b[0m peak1, peak2 \u001b[38;5;241m=\u001b[39m x[peaks[\u001b[38;5;241m0\u001b[39m]], x[\u001b[43mpeaks\u001b[49m\u001b[43m[\u001b[49m\u001b[38;5;241;43m1\u001b[39;49m\u001b[43m]\u001b[49m]  \u001b[38;5;66;03m# Two largest peaks\u001b[39;00m\n\u001b[0;32m     13\u001b[0m \u001b[38;5;66;03m# Get the values between the two peaks and find the minimum\u001b[39;00m\n\u001b[0;32m     14\u001b[0m valid_indices \u001b[38;5;241m=\u001b[39m [i \u001b[38;5;28;01mfor\u001b[39;00m i \u001b[38;5;129;01min\u001b[39;00m \u001b[38;5;28mrange\u001b[39m(x\u001b[38;5;241m.\u001b[39mshape[\u001b[38;5;241m0\u001b[39m]) \u001b[38;5;28;01mif\u001b[39;00m i \u001b[38;5;241m>\u001b[39m peaks[\u001b[38;5;241m0\u001b[39m] \u001b[38;5;129;01mand\u001b[39;00m i \u001b[38;5;241m<\u001b[39m peaks[\u001b[38;5;241m1\u001b[39m]]\n",
      "\u001b[1;31mIndexError\u001b[0m: index 1 is out of bounds for axis 0 with size 1"
     ]
    }
   ],
   "source": [
    "from sklearn.mixture import GaussianMixture\n",
    "gmm = GaussianMixture(n_components = 2)\n",
    "mseval = np.array(mseval)\n",
    "gmm.fit(mseval.reshape(-1, 1))\n",
    "\n",
    "x = np.linspace(0, np.ceil(np.max(mseval)), 10000).reshape(-1, 1)\n",
    "y = np.exp(gmm.score_samples(x))\n",
    "\n",
    "#### peak\n",
    "peaks, _ = find_peaks(y)  # Adjust `prominence` as needed\n",
    "peak1, peak2 = x[peaks[0]], x[peaks[1]]  # Two largest peaks\n",
    "\n",
    "# Get the values between the two peaks and find the minimum\n",
    "valid_indices = [i for i in range(x.shape[0]) if i > peaks[0] and i < peaks[1]]\n",
    "minimum = x[valid_indices[np.argmin(y[valid_indices])]]\n",
    "\n",
    "plt.axvline(minimum, color='black', linestyle='--', \n",
    "            label='Inflection')\n",
    "plt.plot(x, y)"
   ]
  },
  {
   "cell_type": "code",
   "execution_count": 42,
   "id": "c46d3939-2f3a-4ded-af9c-d2067ba75007",
   "metadata": {},
   "outputs": [],
   "source": [
    "res = list(range(0, num_frames))"
   ]
  },
  {
   "cell_type": "code",
   "execution_count": 43,
   "id": "bba8d905-fa84-4846-9cd5-0935aa1f26b5",
   "metadata": {},
   "outputs": [
    {
     "name": "stderr",
     "output_type": "stream",
     "text": [
      "100%|███████████████████████████████████████████████████████████████████████████| 98000/98000 [02:07<00:00, 770.08it/s]\n"
     ]
    }
   ],
   "source": [
    "frames = load_significant_frames(avi, res)"
   ]
  },
  {
   "cell_type": "code",
   "execution_count": 44,
   "id": "82bb7990-7168-4f7b-b6c3-f24e3c3f3b5d",
   "metadata": {},
   "outputs": [
    {
     "data": {
      "text/plain": [
       "<matplotlib.image.AxesImage at 0x26bd90af9d0>"
      ]
     },
     "execution_count": 44,
     "metadata": {},
     "output_type": "execute_result"
    },
    {
     "data": {
      "image/png": "[encoded data removed]",
      "text/plain": [
       "<Figure size 640x480 with 1 Axes>"
      ]
     },
     "metadata": {},
     "output_type": "display_data"
    }
   ],
   "source": [
    "plt.imshow(frames[0])"
   ]
  },
  {
   "cell_type": "code",
   "execution_count": 45,
   "id": "181f2eea-d041-4b74-a6ed-c35900b2a584",
   "metadata": {},
   "outputs": [
    {
     "name": "stderr",
     "output_type": "stream",
     "text": [
      "Analyzing Motion: 100%|█████████████████████████████████████████████████████████| 97999/97999 [01:56<00:00, 841.21it/s]\n"
     ]
    }
   ],
   "source": [
    "horizontal_motion = []\n",
    "prev_gray = cv.cvtColor(frames[0], cv.COLOR_BGR2GRAY)\n",
    "\n",
    "for frame in tqdm(frames[1:], desc=\"Analyzing Motion\"):\n",
    "    curr_gray = cv.cvtColor(frame, cv.COLOR_BGR2GRAY)\n",
    "    \n",
    "    # Calculate dense optical flow\n",
    "    flow = cv.calcOpticalFlowFarneback(\n",
    "        prev_gray, curr_gray, \n",
    "        None, 0.5, 3, 15, 3, 5, 1.2, 0\n",
    "    )\n",
    "    \n",
    "    # Focus on vertical motion (y-axis component)\n",
    "    horizontal_flow = flow[..., 0]\n",
    "    avg_horizontal = np.mean(horizontal_flow)\n",
    "    horizontal_motion.append(avg_horizontal)\n",
    "    \n",
    "    prev_gray = curr_gray\n",
    "horizontal_motion = np.array(horizontal_motion)"
   ]
  },
  {
   "cell_type": "code",
   "execution_count": 46,
   "id": "a00b753c-82e5-47fe-8952-93cab8a8a615",
   "metadata": {},
   "outputs": [
    {
     "data": {
      "text/plain": [
       "Text(0.5, 0, 'selected motion frames')"
      ]
     },
     "execution_count": 46,
     "metadata": {},
     "output_type": "execute_result"
    },
    {
     "data": {
      "image/png": "[encoded data removed]",
      "text/plain": [
       "<Figure size 640x480 with 1 Axes>"
      ]
     },
     "metadata": {},
     "output_type": "display_data"
    }
   ],
   "source": [
    "plt.plot(horizontal_motion)\n",
    "plt.ylabel(\"dx\")\n",
    "plt.xlabel(\"selected motion frames\")"
   ]
  },
  {
   "cell_type": "code",
   "execution_count": 48,
   "id": "888281a2-b819-44d4-a1fe-b054c091df63",
   "metadata": {},
   "outputs": [
    {
     "data": {
      "text/plain": [
       "Text(0.5, 1.0, 'attempt to fit tri-model')"
      ]
     },
     "execution_count": 48,
     "metadata": {},
     "output_type": "execute_result"
    },
    {
     "data": {
      "image/png": "[encoded data removed]",
      "text/plain": [
       "<Figure size 640x480 with 1 Axes>"
      ]
     },
     "metadata": {},
     "output_type": "display_data"
    }
   ],
   "source": [
    "from sklearn.mixture import GaussianMixture\n",
    "gmm = GaussianMixture(n_components = 3)\n",
    "gmm.fit(horizontal_motion.reshape(-1, 1))\n",
    "\n",
    "x_1 = np.linspace(np.min(horizontal_motion), np.ceil(np.max(horizontal_motion)), 10000).reshape(-1, 1)\n",
    "y_2 = np.exp(gmm.score_samples(x_1))\n",
    "\n",
    "plt.plot(x_1, y_2)\n",
    "plt.title(\"attempt to fit tri-model\")"
   ]
  },
  {
   "cell_type": "code",
   "execution_count": 49,
   "id": "2c916529-3d3c-46b8-a4d1-098916a94331",
   "metadata": {},
   "outputs": [],
   "source": [
    "noise_level = noise_detection(\n",
    "    horizontal_motion,\n",
    "    noise_window=20,       # Larger for stable baselines\n",
    "    min_duration=1,        # Minimum frames for valid peak\n",
    "    prominence_factor=5  # Higher = fewer false positives\n",
    ")"
   ]
  },
  {
   "cell_type": "code",
   "execution_count": 53,
   "id": "f36b3685-1b5e-409c-801c-07c46d4f3eb3",
   "metadata": {},
   "outputs": [
    {
     "data": {
      "text/plain": [
       "<matplotlib.collections.PathCollection at 0x2776428a990>"
      ]
     },
     "execution_count": 53,
     "metadata": {},
     "output_type": "execute_result"
    },
    {
     "data": {
      "text/plain": [
       "<Figure size 640x480 with 0 Axes>"
      ]
     },
     "metadata": {},
     "output_type": "display_data"
    },
    {
     "data": {
      "image/png": "[encoded data removed]",
      "text/plain": [
       "<Figure size 640x480 with 1 Axes>"
      ]
     },
     "metadata": {},
     "output_type": "display_data"
    }
   ],
   "source": [
    "factor = 5\n",
    "threshold = cfar_fast(horizontal_motion, num_guard_cells=1, num_ref_cells=15, bias=noise_level * factor)\n",
    "right_peak_idxs = []\n",
    "left_peak_idxs = []\n",
    "for i, dx in enumerate(horizontal_motion):\n",
    "    if dx > threshold[i]:\n",
    "        right_peak_idxs.append(i)\n",
    "    if dx < -threshold[i]:\n",
    "        left_peak_idxs.append(i)\n",
    "        \n",
    "fig = plt.figure()\n",
    "fig, ax = plt.subplots(1)\n",
    "ax.plot(horizontal_motion)\n",
    "ax.plot(abs(threshold), c=\"black\", alpha=0.5)\n",
    "ax.plot(-abs(threshold), c=\"black\", alpha=0.5)\n",
    "# Plot peaks\n",
    "ax.scatter(right_peak_idxs, horizontal_motion[right_peak_idxs], c='green', s=30, label='Valid Right')\n",
    "ax.scatter(left_peak_idxs, horizontal_motion[left_peak_idxs], c='red', s=30, label='Valid Left')"
   ]
  },
  {
   "cell_type": "code",
   "execution_count": 54,
   "id": "53b2ea10-3cf1-4580-9876-42bceb87c618",
   "metadata": {},
   "outputs": [],
   "source": [
    "df_right = pd.DataFrame(\n",
    "    {\n",
    "        \"res\": right_peak_idxs,\n",
    "        \"ori\": right_peak_idxs\n",
    "    }\n",
    ")"
   ]
  },
  {
   "cell_type": "code",
   "execution_count": 55,
   "id": "93b6548b-e414-4144-97e0-014f48c5e1f8",
   "metadata": {},
   "outputs": [],
   "source": [
    "df_left = pd.DataFrame(\n",
    "    {\n",
    "        \"res\": left_peak_idxs,\n",
    "        \"ori\": left_peak_idxs\n",
    "    }\n",
    ")"
   ]
  },
  {
   "cell_type": "code",
   "execution_count": 56,
   "id": "c25f0305-6be4-4955-9d7d-bca610428ac2",
   "metadata": {},
   "outputs": [],
   "source": [
    "df_right[\"xsft\"] = horizontal_motion[right_peak_idxs]\n",
    "df_left[\"xsft\"] = horizontal_motion[left_peak_idxs]\n",
    "\n",
    "df_right[\"is_right\"] = [1] * len(df_right)\n",
    "df_left[\"is_right\"] = [-1] * len(df_left)"
   ]
  },
  {
   "cell_type": "code",
   "execution_count": 58,
   "id": "46daa31e-ec06-4e30-a1db-703ef2b5d3cd",
   "metadata": {},
   "outputs": [
    {
     "data": {
      "text/html": [
       "<div>\n",
       "<style scoped>\n",
       "    .dataframe tbody tr th:only-of-type {\n",
       "        vertical-align: middle;\n",
       "    }\n",
       "\n",
       "    .dataframe tbody tr th {\n",
       "        vertical-align: top;\n",
       "    }\n",
       "\n",
       "    .dataframe thead th {\n",
       "        text-align: right;\n",
       "    }\n",
       "</style>\n",
       "<table border=\"1\" class=\"dataframe\">\n",
       "  <thead>\n",
       "    <tr style=\"text-align: right;\">\n",
       "      <th></th>\n",
       "      <th>res</th>\n",
       "      <th>ori</th>\n",
       "      <th>xsft</th>\n",
       "      <th>is_right</th>\n",
       "    </tr>\n",
       "  </thead>\n",
       "  <tbody>\n",
       "    <tr>\n",
       "      <th>0</th>\n",
       "      <td>1205</td>\n",
       "      <td>1205</td>\n",
       "      <td>0.344220</td>\n",
       "      <td>1</td>\n",
       "    </tr>\n",
       "    <tr>\n",
       "      <th>1</th>\n",
       "      <td>5610</td>\n",
       "      <td>5610</td>\n",
       "      <td>0.216614</td>\n",
       "      <td>1</td>\n",
       "    </tr>\n",
       "    <tr>\n",
       "      <th>2</th>\n",
       "      <td>6935</td>\n",
       "      <td>6935</td>\n",
       "      <td>0.214000</td>\n",
       "      <td>1</td>\n",
       "    </tr>\n",
       "    <tr>\n",
       "      <th>3</th>\n",
       "      <td>6950</td>\n",
       "      <td>6950</td>\n",
       "      <td>0.261912</td>\n",
       "      <td>1</td>\n",
       "    </tr>\n",
       "    <tr>\n",
       "      <th>4</th>\n",
       "      <td>15080</td>\n",
       "      <td>15080</td>\n",
       "      <td>0.237559</td>\n",
       "      <td>1</td>\n",
       "    </tr>\n",
       "    <tr>\n",
       "      <th>...</th>\n",
       "      <td>...</td>\n",
       "      <td>...</td>\n",
       "      <td>...</td>\n",
       "      <td>...</td>\n",
       "    </tr>\n",
       "    <tr>\n",
       "      <th>224</th>\n",
       "      <td>90013</td>\n",
       "      <td>90013</td>\n",
       "      <td>-4.146945</td>\n",
       "      <td>-1</td>\n",
       "    </tr>\n",
       "    <tr>\n",
       "      <th>225</th>\n",
       "      <td>90016</td>\n",
       "      <td>90016</td>\n",
       "      <td>-2.414639</td>\n",
       "      <td>-1</td>\n",
       "    </tr>\n",
       "    <tr>\n",
       "      <th>226</th>\n",
       "      <td>90017</td>\n",
       "      <td>90017</td>\n",
       "      <td>-0.615315</td>\n",
       "      <td>-1</td>\n",
       "    </tr>\n",
       "    <tr>\n",
       "      <th>227</th>\n",
       "      <td>90020</td>\n",
       "      <td>90020</td>\n",
       "      <td>-1.026510</td>\n",
       "      <td>-1</td>\n",
       "    </tr>\n",
       "    <tr>\n",
       "      <th>228</th>\n",
       "      <td>90023</td>\n",
       "      <td>90023</td>\n",
       "      <td>-0.733432</td>\n",
       "      <td>-1</td>\n",
       "    </tr>\n",
       "  </tbody>\n",
       "</table>\n",
       "<p>229 rows × 4 columns</p>\n",
       "</div>"
      ],
      "text/plain": [
       "       res    ori      xsft  is_right\n",
       "0     1205   1205  0.344220         1\n",
       "1     5610   5610  0.216614         1\n",
       "2     6935   6935  0.214000         1\n",
       "3     6950   6950  0.261912         1\n",
       "4    15080  15080  0.237559         1\n",
       "..     ...    ...       ...       ...\n",
       "224  90013  90013 -4.146945        -1\n",
       "225  90016  90016 -2.414639        -1\n",
       "226  90017  90017 -0.615315        -1\n",
       "227  90020  90020 -1.026510        -1\n",
       "228  90023  90023 -0.733432        -1\n",
       "\n",
       "[229 rows x 4 columns]"
      ]
     },
     "execution_count": 58,
     "metadata": {},
     "output_type": "execute_result"
    }
   ],
   "source": [
    "combined_df = pd.concat([df_right, df_left], ignore_index=True)\n",
    "combined_df"
   ]
  },
  {
   "cell_type": "code",
   "execution_count": 61,
   "id": "b3bcff5a-a1d1-429c-b463-44656e1fa0e3",
   "metadata": {},
   "outputs": [],
   "source": [
    "def group_elements(combined_df, max_distance=200):\n",
    "    sort_df = combined_df.sort_values(by=\"ori\").reset_index()\n",
    "    ori = sort_df[\"ori\"].values\n",
    "    res = sort_df[\"res\"].values\n",
    "    is_right = sort_df[\"is_right\"].values\n",
    "    \n",
    "    groups = []\n",
    "    current_ori_group = [ori[0]]  \n",
    "    current_res_group = [res[0]]\n",
    "    current_is_up_group = [is_right[0]]\n",
    "\n",
    "    for i in range(1, len(ori)):\n",
    "        if ori[i] - current_ori_group[-1] <= max_distance:\n",
    "            current_ori_group.append(ori[i])\n",
    "            current_res_group.append(res[i])\n",
    "            current_is_up_group.append(is_right[i])\n",
    "            \n",
    "        else:\n",
    "            df_group  = pd.DataFrame(\n",
    "                {\n",
    "                    \"res\" : current_res_group,\n",
    "                    \"ori\" : current_ori_group,\n",
    "                    \"is_right\": current_is_up_group\n",
    "                }\n",
    "            )\n",
    "            \n",
    "            groups.append(df_group)\n",
    "            current_ori_group = [ori[i]]\n",
    "            current_res_group = [res[i]]\n",
    "            current_is_up_group = [is_right[i]]\n",
    "    \n",
    "    df_group  = pd.DataFrame(\n",
    "                {\n",
    "                    \"res\" : current_res_group,\n",
    "                    \"ori\" : current_ori_group,\n",
    "                    \"is_right\": current_is_up_group\n",
    "                }\n",
    "            )\n",
    "            \n",
    "    groups.append(df_group)\n",
    "    \n",
    "    return groups"
   ]
  },
  {
   "cell_type": "code",
   "execution_count": 62,
   "id": "a017a250-ebce-4cab-8d15-5d51b228da2b",
   "metadata": {},
   "outputs": [],
   "source": [
    "grouped_array = group_elements(combined_df, max_distance=200)"
   ]
  },
  {
   "cell_type": "code",
   "execution_count": 66,
   "id": "9aa70a37-02b8-4ea1-bd72-e0143b79bd13",
   "metadata": {},
   "outputs": [],
   "source": [
    "import cv2\n",
    "import numpy as np\n",
    "import os\n",
    "\n",
    "def create_clips(video_path, grouped_array, output_folder):\n",
    "    os.makedirs(output_folder, exist_ok=True)\n",
    "    \n",
    "    # Open the video file\n",
    "    cap = cv2.VideoCapture(video_path)\n",
    "    \n",
    "    # Get video properties\n",
    "    fps = cap.get(cv2.CAP_PROP_FPS)\n",
    "    width = int(cap.get(cv2.CAP_PROP_FRAME_WIDTH))\n",
    "    height = int(cap.get(cv2.CAP_PROP_FRAME_HEIGHT))\n",
    "    total_frames = int(cap.get(cv2.CAP_PROP_FRAME_COUNT))\n",
    "    \n",
    "    # Process each group\n",
    "    for i, group in enumerate(grouped_array):\n",
    "        # Calculate start and end frames with buffer\n",
    "        ori = group[\"ori\"].values\n",
    "        res = group[\"res\"].values\n",
    "        is_right = group[\"is_right\"].values\n",
    "        \n",
    "        group_start = max(0, ori[0] - 100)\n",
    "        group_end = min(total_frames - 1, ori[-1] + 100)\n",
    "        \n",
    "        \n",
    "        # Calculate original group bounds for text display\n",
    "        original_start = ori[0]\n",
    "        original_end = ori[-1]\n",
    "        \n",
    "        # Set up video writer with 0.5x speed (double the duration)\n",
    "        fourcc = cv2.VideoWriter_fourcc(*'mp4v')\n",
    "        output_path = os.path.join(output_folder, f'clip_{i+1}.mp4')\n",
    "        out = cv2.VideoWriter(output_path, fourcc, fps * 0.2, (width, height))\n",
    "        \n",
    "        # Set text properties\n",
    "        font = cv2.FONT_HERSHEY_SIMPLEX\n",
    "        font_scale = 1\n",
    "        font_thickness = 3\n",
    "        text_color = (255, 255, 255)  # White\n",
    "        text_position = (45, 50)  # Top-Left corner\n",
    "        \n",
    "        # Seek to start frame\n",
    "        cap.set(cv2.CAP_PROP_POS_FRAMES, group_start)\n",
    "        \n",
    "        # Process frames in this group\n",
    "        for frame_num in range(group_start, group_end + 1):\n",
    "            ret, frame = cap.read()\n",
    "            if not ret:\n",
    "                break\n",
    "                \n",
    "            # Add \"episode\" text if within original group bounds\n",
    "            if frame_num in ori:\n",
    "                if (is_right[ori == frame_num][0] > 0):\n",
    "                    cv2.putText(frame, 'right', text_position, \n",
    "                               font, font_scale, (255,0,0), font_thickness)\n",
    "                elif (is_right[ori == frame_num][0] < 1):\n",
    "                    cv2.putText(frame, 'left', text_position, \n",
    "                               font, font_scale, (0,0,255), font_thickness)\n",
    "                \n",
    "            \n",
    "            # Write frame to output video\n",
    "            out.write(frame)\n",
    "        \n",
    "        # Release current video writer\n",
    "        out.release()\n",
    "        print(f'Created clip {i+1} ({group_start}-{group_end} frames)')\n",
    "    \n",
    "    # Release video capture\n",
    "    cap.release()\n",
    "    print(\"All clips created successfully!\")"
   ]
  },
  {
   "cell_type": "code",
   "execution_count": 67,
   "id": "752be9e4-5901-48a0-b88f-900300b295d8",
   "metadata": {},
   "outputs": [
    {
     "name": "stdout",
     "output_type": "stream",
     "text": [
      "Created clip 1 (1105-1305 frames)\n",
      "Created clip 2 (5495-5710 frames)\n",
      "Created clip 3 (6835-7062 frames)\n",
      "Created clip 4 (14980-15180 frames)\n",
      "Created clip 5 (15756-15988 frames)\n",
      "Created clip 6 (23754-23982 frames)\n",
      "Created clip 7 (47438-47670 frames)\n",
      "Created clip 8 (47755-47982 frames)\n",
      "Created clip 9 (48060-48305 frames)\n",
      "Created clip 10 (49742-49942 frames)\n",
      "Created clip 11 (53404-53721 frames)\n",
      "Created clip 12 (53779-54220 frames)\n",
      "Created clip 13 (54732-54944 frames)\n",
      "Created clip 14 (54995-55210 frames)\n",
      "Created clip 15 (55601-55801 frames)\n",
      "Created clip 16 (59004-59233 frames)\n",
      "Created clip 17 (67996-68223 frames)\n",
      "Created clip 18 (73899-74114 frames)\n",
      "Created clip 19 (79920-80139 frames)\n",
      "Created clip 20 (82604-82838 frames)\n",
      "Created clip 21 (82961-83174 frames)\n",
      "Created clip 22 (83241-83765 frames)\n",
      "Created clip 23 (85242-85471 frames)\n",
      "Created clip 24 (86013-86213 frames)\n",
      "Created clip 25 (86242-86461 frames)\n",
      "Created clip 26 (88706-88920 frames)\n",
      "Created clip 27 (88971-89184 frames)\n",
      "Created clip 28 (89515-89729 frames)\n",
      "Created clip 29 (89901-90131 frames)\n",
      "Created clip 30 (96604-96818 frames)\n",
      "All clips created successfully!\n"
     ]
    }
   ],
   "source": [
    "video_path = avi\n",
    "output_folder = f\"{save_dir}/clips_f_{factor:0.0f}/\"\n",
    "\n",
    "create_clips(video_path, grouped_array, output_folder)"
   ]
  },
  {
   "cell_type": "code",
   "execution_count": null,
   "id": "d1a1e77d-8009-494e-8e03-ca26556c65a5",
   "metadata": {},
   "outputs": [],
   "source": []
  }
 ],
 "metadata": {
  "kernelspec": {
   "display_name": "Python 3 (ipykernel)",
   "language": "python",
   "name": "python3"
  },
  "language_info": {
   "codemirror_mode": {
    "name": "ipython",
    "version": 3
   },
   "file_extension": ".py",
   "mimetype": "text/x-python",
   "name": "python",
   "nbconvert_exporter": "python",
   "pygments_lexer": "ipython3",
   "version": "3.13.1"
  }
 },
 "nbformat": 4,
 "nbformat_minor": 5
}
