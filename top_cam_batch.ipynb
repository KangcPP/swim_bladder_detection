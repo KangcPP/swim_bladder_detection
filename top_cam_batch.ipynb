{
 "cells": [
  {
   "cell_type": "code",
   "execution_count": 1,
   "id": "faa713a3-484b-4cf8-980a-066d63b279c8",
   "metadata": {},
   "outputs": [],
   "source": [
    "import openpyxl\n",
    "import glob\n",
    "from pathlib import Path"
   ]
  },
  {
   "cell_type": "code",
   "execution_count": 2,
   "id": "9d22d8be-1862-4549-a63d-719b43a97f98",
   "metadata": {},
   "outputs": [],
   "source": [
    "import cv2 as cv\n",
    "import numpy as np\n",
    "from sklearn.mixture import GaussianMixture\n",
    "import matplotlib.pyplot as plt\n",
    "from scipy.signal import find_peaks\n",
    "import seaborn as sns\n",
    "from scipy import stats\n",
    "import os\n",
    "import re\n",
    "import pickle\n",
    "import imutils\n",
    "from scipy.signal import find_peaks, savgol_filter\n",
    "from pathlib import Path\n",
    "import glob\n",
    "from pathlib import Path\n",
    "import pandas as pd\n",
    "from tqdm import tqdm\n",
    "from utils import init_condition, select_roi_interactive, load_significant_frames\n",
    "from utils import noise_detection,  cfar_fast\n",
    "from utils import find_periods"
   ]
  },
  {
   "cell_type": "code",
   "execution_count": 3,
   "id": "22b7315a-befc-4865-a264-8791688a2c1a",
   "metadata": {},
   "outputs": [],
   "source": [
    "trials = []\n",
    "# Define variable to load the dataframe\n",
    "dataframe = openpyxl.load_workbook(\"F:\\\\swim_motion_data\\\\selected_sets.xlsx\")\n",
    "\n",
    "# Define variable to read sheet\n",
    "dataframe1 = dataframe.active\n",
    "\n",
    "# Iterate the loop to read the cell values\n",
    "for row in range(0, dataframe1.max_row):\n",
    "    for col in dataframe1.iter_cols(1, 1):\n",
    "        trials.append(col[row].value)"
   ]
  },
  {
   "cell_type": "code",
   "execution_count": 4,
   "id": "eaa1411b-3ba3-4ad3-9b0d-c910198047b3",
   "metadata": {},
   "outputs": [
    {
     "name": "stderr",
     "output_type": "stream",
     "text": [
      "Optic Flow for 2024-08-29_F4_01-T3: 100%|██████████████████████████████████████| 72000/72000 [00:51<00:00, 1411.49it/s]\n",
      "Optic Flow for 2024-08-29_F4_01-T7: 100%|██████████████████████████████████████| 72000/72000 [00:51<00:00, 1387.08it/s]\n",
      "Optic Flow for 2024-08-29_F4_01-T8: 100%|██████████████████████████████████████| 72000/72000 [00:55<00:00, 1293.72it/s]\n",
      "Optic Flow for 2024-08-29_F4_01-T9: 100%|██████████████████████████████████████| 72000/72000 [01:08<00:00, 1045.37it/s]\n",
      "Optic Flow for 2024-08-29_F4_01-T10: 100%|█████████████████████████████████████| 72000/72000 [00:58<00:00, 1235.83it/s]\n",
      "Optic Flow for 2024-08-29_F4_01-T11: 100%|█████████████████████████████████████| 72000/72000 [00:58<00:00, 1223.78it/s]\n"
     ]
    }
   ],
   "source": [
    "for trial in trials:\n",
    "    prefix = trial[5:].split(\"-T\")[0]\n",
    "    trial_no = trial.split(\"T\")[-1].split(\"-\")[0]\n",
    "    date = trial.split(\"_\")[1]\n",
    "    Fx = trial.split(\"_\")[2]\n",
    "    \n",
    "    mp4 = glob.glob(f\"F:\\\\Temp_opto\\\\{date}\\\\**\\\\TOPCAMERA\\\\{Fx}\\\\**\\\\{prefix}_Trial{trial_no}.mp4\")[0]\n",
    "    \n",
    "    save_dir = f\"F:\\\\swim_motion_data\\\\lcr_kai\\\\{trial[5:-5]}\\\\TOPCAM\"\n",
    "    Path(save_dir).mkdir(parents = True, exist_ok = True)\n",
    "\n",
    "    if Path(f\"{save_dir}/cord.txt\").exists():\n",
    "       with open(f\"{save_dir}/cord.txt\", \"r\") as f:\n",
    "           x_cord = int(f.readline().split()[-1])\n",
    "           y_cord = int(f.readline().split()[-1])\n",
    "    else:\n",
    "        import winsound\n",
    "        frequency = 2500  # Set Frequency To 2500 Hertz\n",
    "        duration = 500  # Set Duration To 1000 ms == 1 second\n",
    "        winsound.Beep(frequency, duration)\n",
    "        x_cord, y_cord = select_roi_interactive(mp4)\n",
    "        with open(f\"{save_dir}/cord.txt\", \"w\") as f:\n",
    "            f.write(\"x\\t\" + str(x_cord))\n",
    "            f.write(\"\\ny\\t\" + str(y_cord))\n",
    "\n",
    "    capture, num_frames, hsv = init_condition(mp4, x_cord, y_cord)\n",
    "\n",
    "    if Path(f\"{save_dir}/y_shift.npy\").exists():\n",
    "        vertical_motion = np.load(f\"{save_dir}/y_shift.npy\")\n",
    "    else:\n",
    "        vertical_motion = []\n",
    "    \n",
    "        capture.set(cv.CAP_PROP_POS_FRAMES, 0)\n",
    "        ret, prev_frame = capture.read()\n",
    "        prev_frame = prev_frame[y_cord:y_cord+50, x_cord:x_cord+50]\n",
    "        prev_gray = cv.cvtColor(prev_frame, cv.COLOR_BGR2GRAY)\n",
    "        \n",
    "        for frame in tqdm(range(1, num_frames), desc=f\"Optic Flow for {trial[5:-5]}\"):\n",
    "            ret, curr_frame = capture.read()\n",
    "            if not ret:\n",
    "                break\n",
    "                \n",
    "            curr_frame = curr_frame[y_cord:y_cord+50, x_cord:x_cord+50]\n",
    "            curr_gray = cv.cvtColor(curr_frame, cv.COLOR_BGR2GRAY)\n",
    "            \n",
    "            # Calculate dense optical flow\n",
    "            flow = cv.calcOpticalFlowFarneback(\n",
    "                prev_gray, curr_gray, \n",
    "                None, 0.5, 3, 15, 3, 5, 1.2, 0\n",
    "            )\n",
    "            \n",
    "            # Focus on vertical motion (y-axis component)\n",
    "            vertical_flow = flow[..., 1]\n",
    "            avg_vertical = np.mean(vertical_flow)\n",
    "            vertical_motion.append(avg_vertical)\n",
    "            \n",
    "            prev_gray = curr_gray\n",
    "        vertical_motion = -np.array(vertical_motion) ###### make positive to upward motion \n",
    "        np.save(f\"{save_dir}/y_shift.npy\",vertical_motion)"
   ]
  },
  {
   "cell_type": "code",
   "execution_count": null,
   "id": "c3b668e0-a062-4e0f-9383-dd0aed1716bc",
   "metadata": {},
   "outputs": [],
   "source": []
  }
 ],
 "metadata": {
  "kernelspec": {
   "display_name": "Python 3 (ipykernel)",
   "language": "python",
   "name": "python3"
  },
  "language_info": {
   "codemirror_mode": {
    "name": "ipython",
    "version": 3
   },
   "file_extension": ".py",
   "mimetype": "text/x-python",
   "name": "python",
   "nbconvert_exporter": "python",
   "pygments_lexer": "ipython3",
   "version": "3.13.1"
  }
 },
 "nbformat": 4,
 "nbformat_minor": 5
}
