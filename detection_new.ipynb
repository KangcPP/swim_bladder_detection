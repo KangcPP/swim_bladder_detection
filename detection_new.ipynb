{
 "cells": [
  {
   "cell_type": "code",
   "execution_count": 1,
   "id": "961a7faa-57de-4ada-8265-5f07186db60f",
   "metadata": {
    "ExecuteTime": {
     "end_time": "2025-02-23T05:35:27.326869Z",
     "start_time": "2025-02-23T05:35:25.772117Z"
    }
   },
   "outputs": [],
   "source": [
    "import cv2 as cv\n",
    "import numpy as np\n",
    "import matplotlib.pyplot as plt\n",
    "from scipy.signal import find_peaks\n",
    "import seaborn as sns\n",
    "from scipy import stats\n",
    "import os\n",
    "import re\n",
    "import pickle\n",
    "import imutils\n",
    "from scipy.signal import find_peaks, savgol_filter\n",
    "from pathlib import Path\n",
    "import glob\n",
    "from pathlib import Path\n",
    "import pandas as pd"
   ]
  },
  {
   "cell_type": "code",
   "execution_count": 2,
   "id": "a68880b2-c69b-4767-8fdd-5eef1e793e05",
   "metadata": {},
   "outputs": [],
   "source": [
    "def init_condition(avis, x, y):\n",
    "    capture = cv.VideoCapture(avis)\n",
    "    _, frame1 = capture.read()\n",
    "    \n",
    "    # Crop to the selected 50x50 region\n",
    "    frame1 = frame1[y:y+50, x:x+50]\n",
    "    \n",
    "    num_frames = int(capture.get(cv.CAP_PROP_FRAME_COUNT))\n",
    "    hsv = np.zeros_like(frame1)\n",
    "    hsv[..., 1] = 255  # Set saturation channel\n",
    "    \n",
    "    return capture, num_frames, hsv"
   ]
  },
  {
   "cell_type": "code",
   "execution_count": 3,
   "id": "aa21e23b-8f4c-4703-921f-816dad0425f9",
   "metadata": {},
   "outputs": [],
   "source": [
    "def select_roi_interactive(avis):\n",
    "    # Initialize video capture\n",
    "    capture = cv.VideoCapture(avis)\n",
    "    ret, frame = capture.read()\n",
    "    if not ret:\n",
    "        raise ValueError(\"Failed to read video\")\n",
    "    \n",
    "    # Variables to store ROI coordinates\n",
    "    roi_selected = False\n",
    "    x_center, y_center = -1, -1\n",
    "\n",
    "    # Mouse callback function\n",
    "    def mouse_callback(event, x, y, flags, param):\n",
    "        nonlocal roi_selected, x_center, y_center\n",
    "        if event == cv.EVENT_LBUTTONDOWN:\n",
    "            x_center, y_center = x, y\n",
    "            roi_selected = True\n",
    "\n",
    "    # Create window and set mouse callback\n",
    "    cv.namedWindow(\"Select ROI Center\")\n",
    "    cv.setMouseCallback(\"Select ROI Center\", mouse_callback)\n",
    "\n",
    "    while True:\n",
    "        display_frame = frame.copy()\n",
    "        if roi_selected:\n",
    "            # Ensure ROI stays within frame boundaries\n",
    "            x = max(0, min(x_center - 25, frame.shape[1] - 50))\n",
    "            y = max(0, min(y_center - 25, frame.shape[0] - 50))\n",
    "            \n",
    "            # Draw the 50x50 ROI rectangle\n",
    "            cv.rectangle(display_frame, (x, y), (x+50, y+50), (0, 255, 0), 2)\n",
    "            \n",
    "            # Show cropped preview in a new window\n",
    "            cropped_preview = frame[y:y+50, x:x+50]\n",
    "            cv.imshow(\"Cropped Preview\", cropped_preview)\n",
    "        \n",
    "        cv.imshow(\"Select ROI Center\", display_frame)\n",
    "        key = cv.waitKey(1) & 0xFF\n",
    "        if key == ord('q') and roi_selected:  # Press 'q' to confirm\n",
    "            break\n",
    "        elif key == 27:  # Press ESC to exit\n",
    "            cv.destroyAllWindows()\n",
    "            capture.release()\n",
    "            return None, None\n",
    "\n",
    "    cv.destroyAllWindows()\n",
    "    capture.release()\n",
    "    \n",
    "    # Final ROI coordinates (top-left corner)\n",
    "    x = max(0, min(x_center - 25, frame.shape[1] - 50))\n",
    "    y = max(0, min(y_center - 25, frame.shape[0] - 50))\n",
    "    return x, y"
   ]
  },
  {
   "cell_type": "code",
   "execution_count": 5,
   "id": "c96bf46c-0ab2-4875-94ad-29593d0a87c5",
   "metadata": {},
   "outputs": [
    {
     "data": {
      "text/plain": [
       "['G:\\\\2p_hsc\\\\20241017\\\\hsa-sizetuning\\\\F6\\\\F6-set001-b-sweep-200-fps.mp4',\n",
       " 'G:\\\\2p_hsc\\\\20241017\\\\hsa-sizetuning\\\\F6\\\\F6-set002-r-spiral-200-fps.mp4',\n",
       " 'G:\\\\2p_hsc\\\\20241017\\\\hsa-sizetuning\\\\F6\\\\F6-set003-l-spiral-200-fps.mp4',\n",
       " 'G:\\\\2p_hsc\\\\20241017\\\\hsa-sizetuning\\\\F6\\\\F6-set004-b-spiral-200-fps.mp4']"
      ]
     },
     "execution_count": 5,
     "metadata": {},
     "output_type": "execute_result"
    }
   ],
   "source": [
    "fish_date = \"20241017\"\n",
    "no = \"F6\"\n",
    "set_no = 1\n",
    "\n",
    "main_dir = f\"G://2p_hsc//{fish_date}//hsa-sizetuning//{no}//\"\n",
    "excel_path = f\"G://annotation//{fish_date}-{no}.xlsx\"\n",
    "h5_path = f\"G://2p_hsc//{fish_date}//hsa-sizetuning//{no}//{no}-set00{set_no}-b-sweep-200-fps.h5\"\n",
    "\n",
    "avis = glob.glob(f\"{main_dir}/**.mp4\")\n",
    "avis = [str(Path(avi).resolve()) for avi in avis]\n",
    "avis"
   ]
  },
  {
   "cell_type": "code",
   "execution_count": 8,
   "id": "0e099b13-15cd-4cce-af53-3cca1a5ffafc",
   "metadata": {},
   "outputs": [],
   "source": [
    "avi = avis[0]\n",
    "fish_id = fish_date + '-' + no\n",
    "\n",
    "save_dir = f\"G:/swim_motion_data/size_tunning/{fish_id}/set00{set_no}\"\n",
    "Path(save_dir).mkdir(parents=True, exist_ok = True)"
   ]
  },
  {
   "cell_type": "code",
   "execution_count": 9,
   "id": "f816cae0-547c-4397-80cb-6cafb170b9d3",
   "metadata": {},
   "outputs": [],
   "source": [
    "x_cord, y_cord = select_roi_interactive(avi)\n",
    "capture, num_frames, hsv = init_condition(avi, x_cord, y_cord)"
   ]
  },
  {
   "cell_type": "code",
   "execution_count": 10,
   "id": "dcc4d5c8-d4ba-4d4e-bacf-cf15041ac353",
   "metadata": {},
   "outputs": [
    {
     "data": {
      "image/png": "[encoded data removed]",
      "text/plain": [
       "<Figure size 640x480 with 1 Axes>"
      ]
     },
     "metadata": {},
     "output_type": "display_data"
    }
   ],
   "source": [
    "#preview the cropped video\n",
    "capture.set(cv.CAP_PROP_POS_FRAMES, 1)\n",
    "\n",
    "# Read and crop the first frame again\n",
    "ret, frame = capture.read()\n",
    "if ret:\n",
    "    cropped_frame = frame[y_cord:y_cord+50, x_cord:x_cord+50]\n",
    "    plt.imshow(cropped_frame)\n",
    "    "
   ]
  },
  {
   "cell_type": "markdown",
   "id": "4005cf75-f44b-408b-adc7-d0cead8f1407",
   "metadata": {},
   "source": [
    "## calcuate mean squared erro(mseval) and fit bimodel"
   ]
  },
  {
   "cell_type": "code",
   "execution_count": 11,
   "id": "c5b04650-b900-4e08-b3a7-855424b065ff",
   "metadata": {},
   "outputs": [
    {
     "name": "stderr",
     "output_type": "stream",
     "text": [
      "100%|███████████████████████████████████████████████████████████████████████▉| 155997/155999 [01:06<00:00, 2337.28it/s]\n"
     ]
    }
   ],
   "source": [
    "from tqdm import tqdm\n",
    "mseval = np.zeros(num_frames - 1)  # Preallocate array\n",
    "\n",
    "ret, prev_frame = capture.read()\n",
    "prev_frame = prev_frame[y_cord:y_cord+50, x_cord:x_cord+50]\n",
    "prev_gray = cv.cvtColor(prev_frame, cv.COLOR_BGR2GRAY).astype(np.float32)\n",
    "\n",
    "for i in tqdm(range(1, num_frames)):\n",
    "    ret, curr_frame = capture.read()\n",
    "    if not ret:\n",
    "        break\n",
    "        \n",
    "    curr_frame = curr_frame[y_cord:y_cord+50, x_cord:x_cord+50]\n",
    "    curr_gray = cv.cvtColor(curr_frame, cv.COLOR_BGR2GRAY).astype(np.float32)\n",
    "\n",
    "    diff = curr_gray - prev_gray\n",
    "    mse = np.mean(diff ** 2)\n",
    "    mseval[i-1] = mse \n",
    "    \n",
    "    prev_gray = curr_gray.copy()"
   ]
  },
  {
   "cell_type": "markdown",
   "id": "b8ff6455-eb50-4349-bb17-b507a4c5557a",
   "metadata": {},
   "source": [
    "### parameters"
   ]
  },
  {
   "cell_type": "code",
   "execution_count": 12,
   "id": "e95676d7-71b5-496a-b2bc-fbf4266a67b5",
   "metadata": {},
   "outputs": [
    {
     "data": {
      "text/plain": [
       "Text(0.5, 0, 'Frames')"
      ]
     },
     "execution_count": 12,
     "metadata": {},
     "output_type": "execute_result"
    },
    {
     "data": {
      "image/png": "[encoded data removed]",
      "text/plain": [
       "<Figure size 640x480 with 1 Axes>"
      ]
     },
     "metadata": {},
     "output_type": "display_data"
    }
   ],
   "source": [
    "plt.plot(mseval)\n",
    "plt.xlabel(\"Frames\")"
   ]
  },
  {
   "cell_type": "code",
   "execution_count": 13,
   "id": "a6170c54-bfa2-4ab8-817f-84202a68f456",
   "metadata": {
    "jupyter": {
     "source_hidden": true
    }
   },
   "outputs": [],
   "source": [
    "# import numpy as np\n",
    "# from scipy.stats import gaussian_kde\n",
    "# from scipy.signal import argrelmin\n",
    "\n",
    "# # Compute KDE\n",
    "# kde = gaussian_kde(mseval)\n",
    "# x = np.linspace(np.min(mseval), np.max(mseval), 1000)  # Grid points\n",
    "# y = kde(x)  # Density values\n",
    "\n",
    "# from scipy.signal import find_peaks\n",
    "\n",
    "# # Find peaks in the KDE\n",
    "# peaks, _ = find_peaks(y)  # Adjust `prominence` as needed\n",
    "# peak1, peak2 = x[peaks[0]], x[peaks[1]]  # Two largest peaks\n",
    "\n",
    "# # Get the values between the two peaks and find the minimum\n",
    "# valid_indices = [i for i in range(x.shape[0]) if i > peaks[0] and i < peaks[1]]\n",
    "# minimum = x[valid_indices[np.argmin(y[valid_indices])]]\n",
    "\n",
    "# import matplotlib.pyplot as plt\n",
    "# import seaborn as sns\n",
    "\n",
    "# plt.figure(figsize=(4,3))\n",
    "# sns.kdeplot(mseval, shade=True,color='crimson', label='KDE')\n",
    "\n",
    "# # Plot peaks\n",
    "# plt.scatter([peak1, peak2], kde([peak1, peak2]), color='blue', s=50, label='Peaks')\n",
    "\n",
    "# # Plot inflection point\n",
    "# plt.axvline(minimum, color='black', linestyle='--', \n",
    "#             label='Inflection')\n",
    "# plt.xlim(0, 12)\n",
    "# plt.title(f\"Mean Squared Error\")\n",
    "# plt.legend()\n",
    "# plt.show()"
   ]
  },
  {
   "cell_type": "code",
   "execution_count": 14,
   "id": "d33b9627-523b-4029-90e8-59af3371df86",
   "metadata": {},
   "outputs": [
    {
     "data": {
      "text/plain": [
       "[<matplotlib.lines.Line2D at 0x2a6b8184410>]"
      ]
     },
     "execution_count": 14,
     "metadata": {},
     "output_type": "execute_result"
    },
    {
     "data": {
      "image/png": "[encoded data removed]",
      "text/plain": [
       "<Figure size 640x480 with 1 Axes>"
      ]
     },
     "metadata": {},
     "output_type": "display_data"
    }
   ],
   "source": [
    "from sklearn.mixture import GaussianMixture\n",
    "gmm = GaussianMixture(n_components = 2)\n",
    "mseval = np.array(mseval)\n",
    "gmm.fit(mseval.reshape(-1, 1))\n",
    "\n",
    "x = np.linspace(0, np.ceil(np.max(mseval)), 10000).reshape(-1, 1)\n",
    "y = np.exp(gmm.score_samples(x))\n",
    "\n",
    "#### peak\n",
    "peaks, _ = find_peaks(y)  # Adjust `prominence` as needed\n",
    "peak1, peak2 = x[peaks[0]], x[peaks[1]]  # Two largest peaks\n",
    "\n",
    "# Get the values between the two peaks and find the minimum\n",
    "valid_indices = [i for i in range(x.shape[0]) if i > peaks[0] and i < peaks[1]]\n",
    "minimum = x[valid_indices[np.argmin(y[valid_indices])]]\n",
    "\n",
    "plt.axvline(minimum, color='black', linestyle='--', \n",
    "            label='Inflection')\n",
    "plt.plot(x, y)"
   ]
  },
  {
   "cell_type": "code",
   "execution_count": 15,
   "id": "fa4496c5-7dec-4861-aed4-78611628504d",
   "metadata": {},
   "outputs": [],
   "source": [
    "mse_threshold = minimum\n",
    "res = []\n",
    "for a in range(len(mseval)):\n",
    "        if mseval[a] > mse_threshold:\n",
    "            res.append(a)"
   ]
  },
  {
   "cell_type": "code",
   "execution_count": 16,
   "id": "13aa67dd-88db-4d8d-bf36-8c436e52ff3a",
   "metadata": {},
   "outputs": [
    {
     "data": {
      "text/plain": [
       "13806"
      ]
     },
     "execution_count": 16,
     "metadata": {},
     "output_type": "execute_result"
    }
   ],
   "source": [
    "len(res)"
   ]
  },
  {
   "cell_type": "code",
   "execution_count": 17,
   "id": "a8ffdf1a-146a-4e39-9fd1-0899249ccb05",
   "metadata": {},
   "outputs": [],
   "source": [
    "def load_significant_frames(video_path, significant_indices):\n",
    "    \"\"\"Load frames that exceeded the MSE threshold\"\"\"\n",
    "    cap = cv.VideoCapture(video_path)\n",
    "    significant_frames = []\n",
    "    \n",
    "    for idx in tqdm(range(int(cap.get(cv.CAP_PROP_FRAME_COUNT)))):\n",
    "        ret, frame = cap.read()\n",
    "        if not ret:\n",
    "            break\n",
    "        frame = frame[y_cord:y_cord+50, x_cord:x_cord+50]\n",
    "        if idx in significant_indices:\n",
    "            significant_frames.append(frame)\n",
    "    \n",
    "    cap.release()\n",
    "    return significant_frames"
   ]
  },
  {
   "cell_type": "code",
   "execution_count": 18,
   "id": "4bc64556-0bae-4687-93e5-7fc4772614ef",
   "metadata": {},
   "outputs": [
    {
     "name": "stderr",
     "output_type": "stream",
     "text": [
      "100%|████████████████████████████████████████████████████████████████████████| 156000/156000 [01:58<00:00, 1321.45it/s]\n"
     ]
    }
   ],
   "source": [
    "frames = load_significant_frames(avi, res)"
   ]
  },
  {
   "cell_type": "code",
   "execution_count": 19,
   "id": "d7676658-c170-4aca-9b8f-e8cff17d6b13",
   "metadata": {},
   "outputs": [
    {
     "data": {
      "text/plain": [
       "<matplotlib.image.AxesImage at 0x2a6b81e7890>"
      ]
     },
     "execution_count": 19,
     "metadata": {},
     "output_type": "execute_result"
    },
    {
     "data": {
      "image/png": "[encoded data removed]",
      "text/plain": [
       "<Figure size 640x480 with 1 Axes>"
      ]
     },
     "metadata": {},
     "output_type": "display_data"
    }
   ],
   "source": [
    "plt.imshow(frames[0])"
   ]
  },
  {
   "cell_type": "markdown",
   "id": "974ab57b-fdda-4119-b33d-c3c305518bb3",
   "metadata": {},
   "source": [
    "# Optical Flow Analysis\n",
    "   "
   ]
  },
  {
   "cell_type": "code",
   "execution_count": 20,
   "id": "2d52db89-67a7-4ff0-a9d2-b3b596d894b8",
   "metadata": {},
   "outputs": [
    {
     "name": "stderr",
     "output_type": "stream",
     "text": [
      "Analyzing Motion: 100%|████████████████████████████████████████████████████████| 13805/13805 [00:09<00:00, 1516.64it/s]\n"
     ]
    }
   ],
   "source": [
    "vertical_motion = []\n",
    "prev_gray = cv.cvtColor(frames[0], cv.COLOR_BGR2GRAY)\n",
    "\n",
    "for frame in tqdm(frames[1:], desc=\"Analyzing Motion\"):\n",
    "    curr_gray = cv.cvtColor(frame, cv.COLOR_BGR2GRAY)\n",
    "    \n",
    "    # Calculate dense optical flow\n",
    "    flow = cv.calcOpticalFlowFarneback(\n",
    "        prev_gray, curr_gray, \n",
    "        None, 0.5, 3, 15, 3, 5, 1.2, 0\n",
    "    )\n",
    "    \n",
    "    # Focus on vertical motion (y-axis component)\n",
    "    vertical_flow = flow[..., 1]\n",
    "    avg_vertical = np.mean(vertical_flow)\n",
    "    vertical_motion.append(avg_vertical)\n",
    "    \n",
    "    prev_gray = curr_gray\n",
    "vertical_motion = np.array(vertical_motion)"
   ]
  },
  {
   "cell_type": "code",
   "execution_count": 21,
   "id": "a0f8aadb-016c-48f4-b8c1-39c9c16d7d80",
   "metadata": {},
   "outputs": [],
   "source": [
    "vertical_motion = -vertical_motion"
   ]
  },
  {
   "cell_type": "code",
   "execution_count": 22,
   "id": "fb41604f-3fb8-4b51-af28-a123f0d26b48",
   "metadata": {
    "jupyter": {
     "source_hidden": true
    }
   },
   "outputs": [],
   "source": [
    "# sns.kdeplot(vertical_motion, shade=True,color='crimson', label='KDE')"
   ]
  },
  {
   "cell_type": "code",
   "execution_count": 23,
   "id": "e5dfe017-39c3-4ffe-9e07-474a4a712576",
   "metadata": {},
   "outputs": [
    {
     "data": {
      "image/png": "[encoded data removed]",
      "text/plain": [
       "<Figure size 640x480 with 1 Axes>"
      ]
     },
     "metadata": {},
     "output_type": "display_data"
    }
   ],
   "source": [
    "plt.plot(vertical_motion)\n",
    "plt.ylabel(\"dy\")\n",
    "plt.xlabel(\"selected motion frames\")\n",
    "\n",
    "np.save(f\"{save_dir}/y_shift.npy\",vertical_motion)"
   ]
  },
  {
   "cell_type": "code",
   "execution_count": null,
   "id": "97a9b9f0-a3b4-4eba-a3e9-c037be39bcb3",
   "metadata": {},
   "outputs": [],
   "source": []
  },
  {
   "cell_type": "markdown",
   "id": "2cc8dd1f-553c-48bc-b8c4-d22fdf842e71",
   "metadata": {},
   "source": [
    "# trimodel fitting"
   ]
  },
  {
   "cell_type": "code",
   "execution_count": 24,
   "id": "dfcd6e0d-b7b8-4c0b-a62d-f355fd771cf0",
   "metadata": {},
   "outputs": [],
   "source": [
    "# from sklearn.mixture import GaussianMixture\n",
    "# gmm = GaussianMixture(n_components = 3)\n",
    "# gmm.fit(vertical_motion.reshape(-1, 1))\n",
    "\n",
    "# x_1 = np.linspace(np.min(vertical_motion), np.ceil(np.max(vertical_motion)), 10000).reshape(-1, 1)\n",
    "# y_2 = np.exp(gmm.score_samples(x_1))\n",
    "\n",
    "# plt.plot(x_1, y_2)\n",
    "# plt.title(\"attempt to fit tri-model\")"
   ]
  },
  {
   "cell_type": "code",
   "execution_count": 25,
   "id": "135ff19a-afe4-4f44-be27-3cc330d852df",
   "metadata": {},
   "outputs": [],
   "source": [
    "def noise_detection(smoothed_signal, noise_window=10,\n",
    "                             min_duration=3, prominence_factor=2.0):\n",
    "    # 1. Estimate noise characteristics using rolling baseline\n",
    "    noise_estimates = []\n",
    "    for i in range(len(smoothed_signal)):\n",
    "        start = max(0, i - noise_window)\n",
    "        end = min(len(smoothed_signal), i + noise_window)\n",
    "        noise_estimates.append(np.std(smoothed_signal[start:end]))\n",
    "    \n",
    "    noise_std = np.median(noise_estimates)  # Robust noise estimate\n",
    "    return noise_std"
   ]
  },
  {
   "cell_type": "code",
   "execution_count": 26,
   "id": "a55efe44-e32f-4191-ba17-d0ad92785f31",
   "metadata": {},
   "outputs": [],
   "source": [
    "noise_level = noise_detection(\n",
    "    vertical_motion,\n",
    "    noise_window=20,       # Larger for stable baselines\n",
    "    min_duration=1,        # Minimum frames for valid peak\n",
    "    prominence_factor=5  # Higher = fewer false positives\n",
    ")"
   ]
  },
  {
   "cell_type": "markdown",
   "id": "f2679b8a-bd4b-4cae-9b8c-f01d7601957d",
   "metadata": {},
   "source": [
    "# Low Pass fliter"
   ]
  },
  {
   "cell_type": "code",
   "execution_count": 201,
   "id": "a1f15a30-8575-4581-8a05-0619e406b8ba",
   "metadata": {
    "jupyter": {
     "source_hidden": true
    }
   },
   "outputs": [],
   "source": [
    "# b, a = signal.butter(5, 0.2, \"low\")\n",
    "\n",
    "# X_k_smoothed = signal.filtfilt(b, a, vertical_motion) + noise_level * 3.5\n",
    "\n",
    "# plt.plot(vertical_motion, label=\"X[k]\", c=\"b\")\n",
    "# plt.plot(X_k_smoothed, label=\"Threshold\", c=\"r\", alpha=0.2)\n",
    "# plt.legend(loc=\"upper left\", bbox_to_anchor=(1, 1))\n",
    "# plt.title(\"X[k] with Dynamic Threshold\")\n",
    "# plt.xlabel(\"Frequency (Hz)\")\n",
    "# plt.ylabel(\"Magnitude (dB)\")\n",
    "# plt.show()"
   ]
  },
  {
   "cell_type": "markdown",
   "id": "3ee6a851-4f89-466a-a9a3-e7c41539e7cb",
   "metadata": {},
   "source": [
    "# CFAR detector"
   ]
  },
  {
   "cell_type": "code",
   "execution_count": 27,
   "id": "999dfc53-76f3-43c2-b048-1d4a35536275",
   "metadata": {},
   "outputs": [],
   "source": [
    "from scipy import signal\n",
    "from numpy.lib.stride_tricks import sliding_window_view\n",
    "def cfar_fast(\n",
    "    x: np.ndarray,\n",
    "    num_ref_cells: int,\n",
    "    num_guard_cells: int,\n",
    "    bias: float = 1,\n",
    "    method=np.mean,\n",
    "):\n",
    "    pad = int((num_ref_cells + num_guard_cells))\n",
    "    # fmt: off\n",
    "    window_mean = np.pad(                                                                   # Pad front/back since n_windows < n_points\n",
    "        method(                                                                             # Apply input method to remaining compute cells\n",
    "            np.delete(                                                                      # Remove guard cells, CUT from computation\n",
    "                sliding_window_view(x, (num_ref_cells * 2) + (num_guard_cells * 2)),        # Windows of x including CUT, guard cells, and compute cells\n",
    "                np.arange(int(num_ref_cells), num_ref_cells + (num_guard_cells * 2) + 1),   # Get indices of guard cells, CUT\n",
    "                axis=1),\n",
    "            axis=1\n",
    "        ), (pad - 1, pad),\n",
    "        constant_values=(np.nan, np.nan)                                                    # Fill with NaNs\n",
    "    ) + bias                                                                             \n",
    "    # fmt: on\n",
    "    return window_mean"
   ]
  },
  {
   "cell_type": "code",
   "execution_count": 40,
   "id": "9acf9528-e40b-4055-91fe-0673b3f54bd9",
   "metadata": {},
   "outputs": [
    {
     "data": {
      "text/plain": [
       "<matplotlib.collections.PathCollection at 0x2a98f7307d0>"
      ]
     },
     "execution_count": 40,
     "metadata": {},
     "output_type": "execute_result"
    },
    {
     "data": {
      "text/plain": [
       "<Figure size 640x480 with 0 Axes>"
      ]
     },
     "metadata": {},
     "output_type": "display_data"
    },
    {
     "data": {
      "image/png": "[encoded data removed]",
      "text/plain": [
       "<Figure size 640x480 with 1 Axes>"
      ]
     },
     "metadata": {},
     "output_type": "display_data"
    }
   ],
   "source": [
    "# %matplotlib widget\n",
    "#4.1\n",
    "factor = 4.1\n",
    "threshold = cfar_fast(vertical_motion, num_guard_cells=1, num_ref_cells=15, bias=noise_level * factor)\n",
    "up_peak_idxs = []\n",
    "down_peak_idxs = []\n",
    "for i, dy in enumerate(vertical_motion):\n",
    "    if dy > threshold[i]:\n",
    "        up_peak_idxs.append(i)\n",
    "    if dy < -threshold[i]:\n",
    "        down_peak_idxs.append(i)\n",
    "        \n",
    "fig = plt.figure()\n",
    "fig, ax = plt.subplots(1)\n",
    "ax.plot(vertical_motion)\n",
    "ax.plot(abs(threshold), c=\"black\", alpha=0.5)\n",
    "ax.plot(-abs(threshold), c=\"black\", alpha=0.5)\n",
    "# Plot peaks\n",
    "ax.scatter(up_peak_idxs, vertical_motion[up_peak_idxs], c='green', s=30, label='Valid Up')\n",
    "ax.scatter(down_peak_idxs, vertical_motion[down_peak_idxs], c='red', s=30, label='Valid Down')\n",
    "\n",
    "# plt."
   ]
  },
  {
   "cell_type": "code",
   "execution_count": 338,
   "id": "07c315ee-6ed2-4bbd-96ec-882fef4a2c3a",
   "metadata": {
    "jupyter": {
     "source_hidden": true
    }
   },
   "outputs": [],
   "source": [
    "# def detect_significant_motion(smoothed_signal, noise_window=10,\n",
    "#                              min_duration=3, prominence_factor=2.0):\n",
    "#     # 1. Estimate noise characteristics using rolling baseline\n",
    "#     noise_estimates = []\n",
    "#     for i in range(len(smoothed_signal)):\n",
    "#         start = max(0, i - noise_window)\n",
    "#         end = min(len(smoothed_signal), i + noise_window)\n",
    "#         noise_estimates.append(np.std(smoothed_signal[start:end]))\n",
    "    \n",
    "#     noise_std = np.median(noise_estimates)  # Robust noise estimate\n",
    "    \n",
    "#     # 2. Adaptive threshold based on noise floor\n",
    "#     upward_thresh = prominence_factor * noise_std\n",
    "#     downward_thresh = -prominence_factor * noise_std\n",
    "\n",
    "#     upwards = []\n",
    "#     downwards = []\n",
    "#     for i, dy in enumerate(vertical_motion):\n",
    "#         if dy > upward_thresh:\n",
    "#             upwards.append(i)\n",
    "#         if dy < downward_thresh:\n",
    "#             downwards.append(i)\n",
    "    \n",
    "#     return upwards, downwards, noise_std"
   ]
  },
  {
   "cell_type": "code",
   "execution_count": 343,
   "id": "6339bd9b-7ff1-4baf-9efb-1962d3e2a296",
   "metadata": {
    "jupyter": {
     "source_hidden": true
    }
   },
   "outputs": [],
   "source": [
    "# prominence_factor = 5\n",
    "# up_peaks, down_peaks, noise_level = detect_significant_motion(\n",
    "#     vertical_motion,\n",
    "#     noise_window=20,       # Larger for stable baselines\n",
    "#     min_duration=1,        # Minimum frames for valid peak\n",
    "#     prominence_factor=prominence_factor  # Higher = fewer false positives\n",
    "# )"
   ]
  },
  {
   "cell_type": "code",
   "execution_count": 39,
   "id": "c1469e7d-9ca8-449f-b1df-4968999dd975",
   "metadata": {
    "jupyter": {
     "source_hidden": true
    }
   },
   "outputs": [],
   "source": [
    "# def plot_results(smoothed, up_peaks, down_peaks, noise_std, prominence_factor):\n",
    "#     # plt.figure(figsize=(12,6))\n",
    "#     plt.plot(smoothed, label='Vertical Motion')\n",
    "    \n",
    "#     # Plot thresholds\n",
    "#     plt.axhline(-prominence_factor*noise_std, c='r', ls='--', alpha=0.5, label='Upward Threshold')\n",
    "#     plt.axhline(prominence_factor*noise_std, c='g', ls='--', alpha=0.5, label='Downward Threshold')\n",
    "    \n",
    "#     # Plot peaks\n",
    "#     plt.scatter(up_peaks, smoothed[up_peaks], c='green', s=30, label='Valid Up')\n",
    "#     plt.scatter(down_peaks, smoothed[down_peaks], c='red', s=30, label='Valid Down')\n",
    "    \n",
    "    \n",
    "#     plt.xlabel(\"Frames\")\n",
    "#     plt.ylabel(\"Vertical Motion\")\n",
    "#     # plt.legend()\n",
    "#     plt.xlim(6350, 6500)\n",
    "#     plt.show()\n",
    "\n",
    "# plot_results(vertical_motion, up_peaks, down_peaks, noise_level, prominence_factor)"
   ]
  },
  {
   "cell_type": "markdown",
   "id": "e585d4d6-291c-45de-a4f7-f41f59d2b85f",
   "metadata": {},
   "source": [
    "# map the frame back"
   ]
  },
  {
   "cell_type": "code",
   "execution_count": 41,
   "id": "ca25f009-bcbe-46a1-b806-d851549f0676",
   "metadata": {},
   "outputs": [
    {
     "data": {
      "text/plain": [
       "13805"
      ]
     },
     "execution_count": 41,
     "metadata": {},
     "output_type": "execute_result"
    }
   ],
   "source": [
    "len(res[:-1])"
   ]
  },
  {
   "cell_type": "code",
   "execution_count": 42,
   "id": "afdeb810-89d2-48b3-b0a6-727b1789fa45",
   "metadata": {},
   "outputs": [
    {
     "data": {
      "text/plain": [
       "156000"
      ]
     },
     "execution_count": 42,
     "metadata": {},
     "output_type": "execute_result"
    }
   ],
   "source": [
    "num_frames"
   ]
  },
  {
   "cell_type": "code",
   "execution_count": 43,
   "id": "cf26413d-610e-41ab-a941-c98f771b985d",
   "metadata": {},
   "outputs": [
    {
     "data": {
      "text/plain": [
       "13805"
      ]
     },
     "execution_count": 43,
     "metadata": {},
     "output_type": "execute_result"
    }
   ],
   "source": [
    "len(vertical_motion)"
   ]
  },
  {
   "cell_type": "code",
   "execution_count": 44,
   "id": "88f3cfb6-f6fa-44f9-a503-9ea1ace5a976",
   "metadata": {},
   "outputs": [],
   "source": [
    "y_motions = np.zeros(num_frames)\n",
    "\n",
    "ori_up_idxs = []\n",
    "ori_down_idxs = []\n",
    "for i, re in enumerate(res[:-1]):\n",
    "    y_motions[re] = vertical_motion[i]\n",
    "for i in up_peak_idxs:\n",
    "    ori_up_idxs.append(res[i])\n",
    "for j in down_peak_idxs:\n",
    "    ori_down_idxs.append(res[j])"
   ]
  },
  {
   "cell_type": "code",
   "execution_count": 45,
   "id": "832b07dd-e376-404c-8515-49c74afc3c41",
   "metadata": {},
   "outputs": [
    {
     "data": {
      "text/plain": [
       "156000"
      ]
     },
     "execution_count": 45,
     "metadata": {},
     "output_type": "execute_result"
    }
   ],
   "source": [
    "len(y_motions)"
   ]
  },
  {
   "cell_type": "code",
   "execution_count": 46,
   "id": "0c18f035-cfec-419d-97e8-f27b62c8b71d",
   "metadata": {},
   "outputs": [
    {
     "data": {
      "text/html": [
       "<div>\n",
       "<style scoped>\n",
       "    .dataframe tbody tr th:only-of-type {\n",
       "        vertical-align: middle;\n",
       "    }\n",
       "\n",
       "    .dataframe tbody tr th {\n",
       "        vertical-align: top;\n",
       "    }\n",
       "\n",
       "    .dataframe thead th {\n",
       "        text-align: right;\n",
       "    }\n",
       "</style>\n",
       "<table border=\"1\" class=\"dataframe\">\n",
       "  <thead>\n",
       "    <tr style=\"text-align: right;\">\n",
       "      <th></th>\n",
       "      <th>res</th>\n",
       "      <th>ori</th>\n",
       "    </tr>\n",
       "  </thead>\n",
       "  <tbody>\n",
       "    <tr>\n",
       "      <th>0</th>\n",
       "      <td>1022</td>\n",
       "      <td>12217</td>\n",
       "    </tr>\n",
       "    <tr>\n",
       "      <th>1</th>\n",
       "      <td>1023</td>\n",
       "      <td>12218</td>\n",
       "    </tr>\n",
       "    <tr>\n",
       "      <th>2</th>\n",
       "      <td>1029</td>\n",
       "      <td>12230</td>\n",
       "    </tr>\n",
       "    <tr>\n",
       "      <th>3</th>\n",
       "      <td>1045</td>\n",
       "      <td>12337</td>\n",
       "    </tr>\n",
       "    <tr>\n",
       "      <th>4</th>\n",
       "      <td>1046</td>\n",
       "      <td>12339</td>\n",
       "    </tr>\n",
       "    <tr>\n",
       "      <th>...</th>\n",
       "      <td>...</td>\n",
       "      <td>...</td>\n",
       "    </tr>\n",
       "    <tr>\n",
       "      <th>243</th>\n",
       "      <td>13441</td>\n",
       "      <td>151744</td>\n",
       "    </tr>\n",
       "    <tr>\n",
       "      <th>244</th>\n",
       "      <td>13442</td>\n",
       "      <td>151745</td>\n",
       "    </tr>\n",
       "    <tr>\n",
       "      <th>245</th>\n",
       "      <td>13443</td>\n",
       "      <td>151746</td>\n",
       "    </tr>\n",
       "    <tr>\n",
       "      <th>246</th>\n",
       "      <td>13452</td>\n",
       "      <td>151767</td>\n",
       "    </tr>\n",
       "    <tr>\n",
       "      <th>247</th>\n",
       "      <td>13672</td>\n",
       "      <td>154389</td>\n",
       "    </tr>\n",
       "  </tbody>\n",
       "</table>\n",
       "<p>248 rows × 2 columns</p>\n",
       "</div>"
      ],
      "text/plain": [
       "       res     ori\n",
       "0     1022   12217\n",
       "1     1023   12218\n",
       "2     1029   12230\n",
       "3     1045   12337\n",
       "4     1046   12339\n",
       "..     ...     ...\n",
       "243  13441  151744\n",
       "244  13442  151745\n",
       "245  13443  151746\n",
       "246  13452  151767\n",
       "247  13672  154389\n",
       "\n",
       "[248 rows x 2 columns]"
      ]
     },
     "execution_count": 46,
     "metadata": {},
     "output_type": "execute_result"
    }
   ],
   "source": [
    "df_up = pd.DataFrame(\n",
    "    {\n",
    "        \"res\": up_peak_idxs,\n",
    "        \"ori\": ori_up_idxs\n",
    "    }\n",
    ")\n",
    "df_up"
   ]
  },
  {
   "cell_type": "code",
   "execution_count": 47,
   "id": "8150157a-412a-48cd-afd6-f24b2b3ec04e",
   "metadata": {},
   "outputs": [
    {
     "data": {
      "text/html": [
       "<div>\n",
       "<style scoped>\n",
       "    .dataframe tbody tr th:only-of-type {\n",
       "        vertical-align: middle;\n",
       "    }\n",
       "\n",
       "    .dataframe tbody tr th {\n",
       "        vertical-align: top;\n",
       "    }\n",
       "\n",
       "    .dataframe thead th {\n",
       "        text-align: right;\n",
       "    }\n",
       "</style>\n",
       "<table border=\"1\" class=\"dataframe\">\n",
       "  <thead>\n",
       "    <tr style=\"text-align: right;\">\n",
       "      <th></th>\n",
       "      <th>res</th>\n",
       "      <th>ori</th>\n",
       "    </tr>\n",
       "  </thead>\n",
       "  <tbody>\n",
       "    <tr>\n",
       "      <th>0</th>\n",
       "      <td>1024</td>\n",
       "      <td>12219</td>\n",
       "    </tr>\n",
       "    <tr>\n",
       "      <th>1</th>\n",
       "      <td>1033</td>\n",
       "      <td>12234</td>\n",
       "    </tr>\n",
       "    <tr>\n",
       "      <th>2</th>\n",
       "      <td>1034</td>\n",
       "      <td>12237</td>\n",
       "    </tr>\n",
       "    <tr>\n",
       "      <th>3</th>\n",
       "      <td>1047</td>\n",
       "      <td>12345</td>\n",
       "    </tr>\n",
       "    <tr>\n",
       "      <th>4</th>\n",
       "      <td>1054</td>\n",
       "      <td>12370</td>\n",
       "    </tr>\n",
       "    <tr>\n",
       "      <th>...</th>\n",
       "      <td>...</td>\n",
       "      <td>...</td>\n",
       "    </tr>\n",
       "    <tr>\n",
       "      <th>223</th>\n",
       "      <td>13416</td>\n",
       "      <td>151473</td>\n",
       "    </tr>\n",
       "    <tr>\n",
       "      <th>224</th>\n",
       "      <td>13417</td>\n",
       "      <td>151485</td>\n",
       "    </tr>\n",
       "    <tr>\n",
       "      <th>225</th>\n",
       "      <td>13447</td>\n",
       "      <td>151751</td>\n",
       "    </tr>\n",
       "    <tr>\n",
       "      <th>226</th>\n",
       "      <td>13448</td>\n",
       "      <td>151755</td>\n",
       "    </tr>\n",
       "    <tr>\n",
       "      <th>227</th>\n",
       "      <td>13453</td>\n",
       "      <td>151773</td>\n",
       "    </tr>\n",
       "  </tbody>\n",
       "</table>\n",
       "<p>228 rows × 2 columns</p>\n",
       "</div>"
      ],
      "text/plain": [
       "       res     ori\n",
       "0     1024   12219\n",
       "1     1033   12234\n",
       "2     1034   12237\n",
       "3     1047   12345\n",
       "4     1054   12370\n",
       "..     ...     ...\n",
       "223  13416  151473\n",
       "224  13417  151485\n",
       "225  13447  151751\n",
       "226  13448  151755\n",
       "227  13453  151773\n",
       "\n",
       "[228 rows x 2 columns]"
      ]
     },
     "execution_count": 47,
     "metadata": {},
     "output_type": "execute_result"
    }
   ],
   "source": [
    "df_down = pd.DataFrame(\n",
    "    {\n",
    "        \"res\": down_peak_idxs,\n",
    "        \"ori\": ori_down_idxs\n",
    "    }\n",
    ")\n",
    "df_down"
   ]
  },
  {
   "cell_type": "code",
   "execution_count": 54,
   "id": "cf567d3e-83ae-4048-9468-b6e4b43347f7",
   "metadata": {},
   "outputs": [
    {
     "data": {
      "text/plain": [
       "[12217, 12218, 12230, 12337, 12339, 12365, 12429, 12449, 12477, 15729, 18138]"
      ]
     },
     "execution_count": 54,
     "metadata": {},
     "output_type": "execute_result"
    }
   ],
   "source": [
    "ori_up_idxs[:11]"
   ]
  },
  {
   "cell_type": "code",
   "execution_count": 51,
   "id": "89ee8850-1ac7-4aa0-b433-0dd19ab96bb4",
   "metadata": {},
   "outputs": [
    {
     "data": {
      "text/plain": [
       "[12219, 12234, 12237, 12345, 12370, 12375, 12381, 12453, 18142]"
      ]
     },
     "execution_count": 51,
     "metadata": {},
     "output_type": "execute_result"
    }
   ],
   "source": [
    "ori_down_idxs[:9]"
   ]
  },
  {
   "cell_type": "markdown",
   "id": "59c9bfa1-6cc0-4ce6-b65a-84d14dcd185e",
   "metadata": {},
   "source": [
    "# Episode"
   ]
  },
  {
   "cell_type": "code",
   "execution_count": 55,
   "id": "07bb880a-4128-45c3-80df-f62fcd8dbd74",
   "metadata": {},
   "outputs": [],
   "source": [
    "def find_periods(ori_up_idx, ori_down_idx):\n",
    "    ori_up = sorted(ori_up_idx)\n",
    "    ori_down = sorted(ori_down_idx)\n",
    "    used_up = set()\n",
    "    used_down = set()\n",
    "    periods = []\n",
    "    i_up = 0\n",
    "\n",
    "    while i_up < len(ori_up):\n",
    "        current_up = ori_up[i_up]\n",
    "        if current_up in used_up:\n",
    "            i_up += 1\n",
    "            continue\n",
    "\n",
    "        # Expand up chain\n",
    "        up_chain = [current_up]\n",
    "        used_up.add(current_up)\n",
    "        j_up = i_up + 1\n",
    "        while j_up < len(ori_up):\n",
    "            next_up = ori_up[j_up]\n",
    "            if next_up - current_up > 40:\n",
    "                break\n",
    "            # Check if any down exists between current_up and next_up\n",
    "            has_down = False\n",
    "            for d in ori_down:\n",
    "                if current_up < d < next_up and d not in used_down:\n",
    "                    has_down = True\n",
    "                    break\n",
    "            if has_down:\n",
    "                break\n",
    "            up_chain.append(next_up)\n",
    "            used_up.add(next_up)\n",
    "            current_up = next_up\n",
    "            j_up += 1\n",
    "\n",
    "        # Find down chain\n",
    "        down_chain = []\n",
    "        current_down = None\n",
    "        # Find the first down after current_up and within 40 frames\n",
    "        for d in ori_down:\n",
    "            if d > current_up and d <= current_up + 40 and d not in used_down:\n",
    "                current_down = d\n",
    "                break\n",
    "        if current_down is None:\n",
    "            i_up += 1\n",
    "            continue\n",
    "\n",
    "        down_chain.append(current_down)\n",
    "        used_down.add(current_down)\n",
    "        # Expand down chain\n",
    "        while True:\n",
    "            next_down = None\n",
    "            for d in ori_down:\n",
    "                if d > current_down and d <= current_down + 40 and d not in used_down:\n",
    "                    next_down = d\n",
    "                    break\n",
    "            if next_down is None:\n",
    "                break\n",
    "            # Check if any up exists between current_down and next_down\n",
    "            has_up = False\n",
    "            for u in ori_up:\n",
    "                if current_down < u < next_down and u not in used_up:\n",
    "                    has_up = True\n",
    "                    break\n",
    "            if has_up:\n",
    "                break\n",
    "            down_chain.append(next_down)\n",
    "            used_down.add(next_down)\n",
    "            current_down = next_down\n",
    "\n",
    "        periods.append([up_chain[0], down_chain[-1]])\n",
    "\n",
    "        # Move i_up to the next unused up index\n",
    "        while i_up < len(ori_up) and ori_up[i_up] in used_up:\n",
    "            i_up += 1\n",
    "\n",
    "    return periods"
   ]
  },
  {
   "cell_type": "code",
   "execution_count": 57,
   "id": "24ce74ca-2140-4e32-890f-ab4f4e651a6f",
   "metadata": {},
   "outputs": [],
   "source": [
    "episodes = find_periods(ori_up_idxs, ori_down_idxs)"
   ]
  },
  {
   "cell_type": "code",
   "execution_count": 58,
   "id": "13fd96da-cd64-4158-b84e-a6c7ff48ff70",
   "metadata": {},
   "outputs": [
    {
     "data": {
      "text/plain": [
       "[[12217, 12219],\n",
       " [12230, 12237],\n",
       " [12337, 12345],\n",
       " [12365, 12381],\n",
       " [12429, 12453],\n",
       " [18138, 18144],\n",
       " [18150, 18155],\n",
       " [18166, 18170],\n",
       " [18187, 18191],\n",
       " [18206, 18213],\n",
       " [18221, 18230],\n",
       " [18243, 18249],\n",
       " [18369, 18376],\n",
       " [18383, 18393],\n",
       " [18409, 18417],\n",
       " [24129, 24133],\n",
       " [24141, 24144],\n",
       " [24154, 24165],\n",
       " [24196, 24201],\n",
       " [24219, 24237],\n",
       " [24246, 24261],\n",
       " [24390, 24395],\n",
       " [24405, 24409],\n",
       " [24419, 24441],\n",
       " [30095, 30098],\n",
       " [30105, 30110],\n",
       " [30115, 30121],\n",
       " [30181, 30189],\n",
       " [30203, 30213],\n",
       " [30223, 30229],\n",
       " [30244, 30249],\n",
       " [30297, 30309],\n",
       " [30341, 30345],\n",
       " [30360, 30369],\n",
       " [30379, 30385],\n",
       " [30396, 30409],\n",
       " [30419, 30429],\n",
       " [36088, 36096],\n",
       " [36100, 36105],\n",
       " [36115, 36125],\n",
       " [36135, 36147],\n",
       " [36344, 36352],\n",
       " [36358, 36364],\n",
       " [36371, 36384],\n",
       " [36416, 36429],\n",
       " [36441, 36453],\n",
       " [36641, 36660],\n",
       " [45801, 45885],\n",
       " [48136, 48146],\n",
       " [48151, 48159],\n",
       " [48169, 48177],\n",
       " [48190, 48194],\n",
       " [48209, 48249],\n",
       " [48263, 48285],\n",
       " [54158, 54165],\n",
       " [54172, 54180],\n",
       " [54186, 54192],\n",
       " [54218, 54225],\n",
       " [54235, 54249],\n",
       " [54259, 54263],\n",
       " [54282, 54287],\n",
       " [54387, 54396],\n",
       " [54401, 54409],\n",
       " [63993, 64029],\n",
       " [72105, 72130],\n",
       " [72140, 72146],\n",
       " [72158, 72165],\n",
       " [72349, 72357],\n",
       " [72366, 72375],\n",
       " [72386, 72395],\n",
       " [72406, 72417],\n",
       " [73276, 73284],\n",
       " [73286, 73293],\n",
       " [73294, 73308],\n",
       " [90134, 90141],\n",
       " [90147, 90153],\n",
       " [90163, 90166],\n",
       " [90180, 90189],\n",
       " [90203, 90213],\n",
       " [90225, 90237],\n",
       " [90362, 90370],\n",
       " [90377, 90382],\n",
       " [90395, 90408],\n",
       " [90417, 90441],\n",
       " [90453, 90465],\n",
       " [96127, 96153],\n",
       " [96161, 96169],\n",
       " [96177, 96189],\n",
       " [96198, 96202],\n",
       " [96375, 96387],\n",
       " [96390, 96397],\n",
       " [96405, 96441],\n",
       " [102103, 102120],\n",
       " [102129, 102133],\n",
       " [102146, 102153],\n",
       " [102165, 102177],\n",
       " [102293, 102301],\n",
       " [102306, 102312],\n",
       " [102321, 102333],\n",
       " [102340, 102345],\n",
       " [108123, 108129],\n",
       " [108140, 108145],\n",
       " [108189, 108201],\n",
       " [115346, 115353],\n",
       " [115470, 115485],\n",
       " [115497, 115510],\n",
       " [115520, 115533],\n",
       " [115545, 115557],\n",
       " [117199, 117206],\n",
       " [117208, 117212],\n",
       " [117215, 117224],\n",
       " [117225, 117230],\n",
       " [117231, 117237],\n",
       " [117243, 117251],\n",
       " [120169, 120177],\n",
       " [120183, 120189],\n",
       " [120368, 120374],\n",
       " [120383, 120386],\n",
       " [120405, 120417],\n",
       " [126158, 126165],\n",
       " [126176, 126213],\n",
       " [126224, 126237],\n",
       " [126303, 126345],\n",
       " [126371, 126381],\n",
       " [126387, 126393],\n",
       " [126414, 126417],\n",
       " [126434, 126465],\n",
       " [132091, 132098],\n",
       " [132102, 132108],\n",
       " [132119, 132129],\n",
       " [132147, 132153],\n",
       " [132285, 132297],\n",
       " [132313, 132321],\n",
       " [132356, 132365],\n",
       " [132374, 132381],\n",
       " [132394, 132405],\n",
       " [138159, 138165],\n",
       " [138179, 138189],\n",
       " [144117, 144177],\n",
       " [144312, 144315],\n",
       " [144326, 144333],\n",
       " [144341, 144348],\n",
       " [144362, 144369],\n",
       " [144388, 144393],\n",
       " [151413, 151485],\n",
       " [151744, 151755],\n",
       " [151767, 151773]]"
      ]
     },
     "execution_count": 58,
     "metadata": {},
     "output_type": "execute_result"
    }
   ],
   "source": [
    "episodes"
   ]
  },
  {
   "cell_type": "markdown",
   "id": "e99274d4-2303-4478-aacd-7b7bdfa5aef0",
   "metadata": {},
   "source": [
    "# plot eye angle shadow with motion"
   ]
  },
  {
   "cell_type": "code",
   "execution_count": 59,
   "id": "763d64b9-3c39-4de2-932a-10a323d21623",
   "metadata": {},
   "outputs": [],
   "source": [
    "import pandas as pd"
   ]
  },
  {
   "cell_type": "code",
   "execution_count": 60,
   "id": "0be8e995-9fd2-4cfa-a169-64f6628c1d75",
   "metadata": {},
   "outputs": [],
   "source": [
    "def get_behavior_timestamps(filename):\n",
    "    t = np.loadtxt(filename)[:, 1]\n",
    "    t = (t - t[0]) / 3515839\n",
    "    return t\n",
    "\n",
    "\n",
    "def get_tail_angles(df_tail, heading):\n",
    "    xy = df_tail.values[:, ::2] + df_tail.values[:, 1::2] * 1j\n",
    "    midline = -np.exp(1j * np.deg2rad(np.asarray(heading)))\n",
    "    return -np.angle(np.diff(xy, axis=1) / midline[:, None])"
   ]
  },
  {
   "cell_type": "code",
   "execution_count": 61,
   "id": "b0651f7d-8fcd-4d9d-8599-5fd31fc90f41",
   "metadata": {},
   "outputs": [],
   "source": [
    "def low_pass_filt(x, fs, cutoff, axis=0, order=2):\n",
    "    from scipy.signal import butter, filtfilt\n",
    "\n",
    "    b, a = butter(order, cutoff / (fs / 2), btype=\"low\")\n",
    "    return filtfilt(b, a, x, axis=axis)"
   ]
  },
  {
   "cell_type": "code",
   "execution_count": 62,
   "id": "2d2b1d5f-999d-4990-ac22-c2e7a781b9b4",
   "metadata": {},
   "outputs": [],
   "source": [
    "def load_data(h5_path, fs=200):\n",
    "    from scipy.interpolate import interp1d\n",
    "\n",
    "    t = get_behavior_timestamps(Path(h5_path).with_suffix(\".txt\"))\n",
    "    df_eye = pd.read_hdf(h5_path, \"eye\")\n",
    "    eye_angles = df_eye[[(\"left_eye\", \"angle\"), (\"right_eye\", \"angle\")]].values\n",
    "    t_new = np.arange(int(t[-1]) * fs) / fs\n",
    "    eye_angles = interp1d(t, eye_angles, axis=0, kind=\"cubic\")(t_new)\n",
    "    df_tail = pd.read_hdf(h5_path, \"tail\")\n",
    "    tail_angles = get_tail_angles(df_tail, df_eye[\"heading\"].values)\n",
    "    tail_angles = interp1d(t, tail_angles, axis=0, kind=\"cubic\")(t_new)\n",
    "\n",
    "    return t_new, eye_angles, tail_angles\n"
   ]
  },
  {
   "cell_type": "code",
   "execution_count": 63,
   "id": "fbd48a1c-8b2e-4f5d-8f81-27cd33fc5c7b",
   "metadata": {},
   "outputs": [],
   "source": [
    "\n",
    "fs = 200  # target sampling frequency\n",
    "t, eye_angles, tail_angles = load_data(h5_path, fs)\n",
    "\n",
    "# conv_params = {\n",
    "#     \"hw\": 100,  # half-width of the step function\n",
    "#     \"thr\": 0.6,  # threshold for peak height\n",
    "#     \"dist\": 80,  # distance between events\n",
    "# }\n",
    "eye_angles_filt = low_pass_filt(eye_angles, fs, 2)"
   ]
  },
  {
   "cell_type": "code",
   "execution_count": 64,
   "id": "660d47d0-3a2a-401b-b39b-95c12ac6e661",
   "metadata": {},
   "outputs": [],
   "source": [
    "\n",
    "ex = pd.read_excel(excel_path, usecols = [1,2,3], header = 1).drop(np.append(np.arange(25,49,1), 0)).reset_index().drop([\"index\"], axis=1)\n",
    "is_pc = ex['is_pc'].values\n",
    "is_strike = ex['is_strike'].values\n",
    "pc_only = is_pc - is_strike\n",
    "strike_only = is_strike\n",
    "pc_only = np.nan_to_num(pc_only)\n",
    "strike_only = np.nan_to_num(strike_only)\n",
    "pc_accepted = pc_only.astype(bool)\n",
    "strike_accepted = strike_only.astype(bool)\n",
    "\n",
    "df_trial = pd.DataFrame({\n",
    "    \"trial\" : ex[\"size\"].values,\n",
    "    \"t_start\" : np.arange(24) * 30 + 30,\n",
    "    \"t_end\" : np.arange(24) * 30 + 32\n",
    "})"
   ]
  },
  {
   "cell_type": "code",
   "execution_count": 65,
   "id": "2de93b4d-979e-4ed8-945f-3ce50a93ccdd",
   "metadata": {},
   "outputs": [
    {
     "data": {
      "text/html": [
       "<div>\n",
       "<style scoped>\n",
       "    .dataframe tbody tr th:only-of-type {\n",
       "        vertical-align: middle;\n",
       "    }\n",
       "\n",
       "    .dataframe tbody tr th {\n",
       "        vertical-align: top;\n",
       "    }\n",
       "\n",
       "    .dataframe thead th {\n",
       "        text-align: right;\n",
       "    }\n",
       "</style>\n",
       "<table border=\"1\" class=\"dataframe\">\n",
       "  <thead>\n",
       "    <tr style=\"text-align: right;\">\n",
       "      <th></th>\n",
       "      <th>trial</th>\n",
       "      <th>t_start</th>\n",
       "      <th>t_end</th>\n",
       "    </tr>\n",
       "  </thead>\n",
       "  <tbody>\n",
       "    <tr>\n",
       "      <th>0</th>\n",
       "      <td>2.0</td>\n",
       "      <td>6000</td>\n",
       "      <td>6400</td>\n",
       "    </tr>\n",
       "    <tr>\n",
       "      <th>1</th>\n",
       "      <td>4.0</td>\n",
       "      <td>12000</td>\n",
       "      <td>12400</td>\n",
       "    </tr>\n",
       "    <tr>\n",
       "      <th>2</th>\n",
       "      <td>6.0</td>\n",
       "      <td>18000</td>\n",
       "      <td>18400</td>\n",
       "    </tr>\n",
       "    <tr>\n",
       "      <th>3</th>\n",
       "      <td>10.0</td>\n",
       "      <td>24000</td>\n",
       "      <td>24400</td>\n",
       "    </tr>\n",
       "    <tr>\n",
       "      <th>4</th>\n",
       "      <td>15.0</td>\n",
       "      <td>30000</td>\n",
       "      <td>30400</td>\n",
       "    </tr>\n",
       "    <tr>\n",
       "      <th>5</th>\n",
       "      <td>20.0</td>\n",
       "      <td>36000</td>\n",
       "      <td>36400</td>\n",
       "    </tr>\n",
       "    <tr>\n",
       "      <th>6</th>\n",
       "      <td>2.0</td>\n",
       "      <td>42000</td>\n",
       "      <td>42400</td>\n",
       "    </tr>\n",
       "    <tr>\n",
       "      <th>7</th>\n",
       "      <td>4.0</td>\n",
       "      <td>48000</td>\n",
       "      <td>48400</td>\n",
       "    </tr>\n",
       "    <tr>\n",
       "      <th>8</th>\n",
       "      <td>6.0</td>\n",
       "      <td>54000</td>\n",
       "      <td>54400</td>\n",
       "    </tr>\n",
       "    <tr>\n",
       "      <th>9</th>\n",
       "      <td>10.0</td>\n",
       "      <td>60000</td>\n",
       "      <td>60400</td>\n",
       "    </tr>\n",
       "    <tr>\n",
       "      <th>10</th>\n",
       "      <td>15.0</td>\n",
       "      <td>66000</td>\n",
       "      <td>66400</td>\n",
       "    </tr>\n",
       "    <tr>\n",
       "      <th>11</th>\n",
       "      <td>20.0</td>\n",
       "      <td>72000</td>\n",
       "      <td>72400</td>\n",
       "    </tr>\n",
       "    <tr>\n",
       "      <th>12</th>\n",
       "      <td>2.0</td>\n",
       "      <td>78000</td>\n",
       "      <td>78400</td>\n",
       "    </tr>\n",
       "    <tr>\n",
       "      <th>13</th>\n",
       "      <td>4.0</td>\n",
       "      <td>84000</td>\n",
       "      <td>84400</td>\n",
       "    </tr>\n",
       "    <tr>\n",
       "      <th>14</th>\n",
       "      <td>6.0</td>\n",
       "      <td>90000</td>\n",
       "      <td>90400</td>\n",
       "    </tr>\n",
       "    <tr>\n",
       "      <th>15</th>\n",
       "      <td>10.0</td>\n",
       "      <td>96000</td>\n",
       "      <td>96400</td>\n",
       "    </tr>\n",
       "    <tr>\n",
       "      <th>16</th>\n",
       "      <td>15.0</td>\n",
       "      <td>102000</td>\n",
       "      <td>102400</td>\n",
       "    </tr>\n",
       "    <tr>\n",
       "      <th>17</th>\n",
       "      <td>20.0</td>\n",
       "      <td>108000</td>\n",
       "      <td>108400</td>\n",
       "    </tr>\n",
       "    <tr>\n",
       "      <th>18</th>\n",
       "      <td>2.0</td>\n",
       "      <td>114000</td>\n",
       "      <td>114400</td>\n",
       "    </tr>\n",
       "    <tr>\n",
       "      <th>19</th>\n",
       "      <td>4.0</td>\n",
       "      <td>120000</td>\n",
       "      <td>120400</td>\n",
       "    </tr>\n",
       "    <tr>\n",
       "      <th>20</th>\n",
       "      <td>6.0</td>\n",
       "      <td>126000</td>\n",
       "      <td>126400</td>\n",
       "    </tr>\n",
       "    <tr>\n",
       "      <th>21</th>\n",
       "      <td>10.0</td>\n",
       "      <td>132000</td>\n",
       "      <td>132400</td>\n",
       "    </tr>\n",
       "    <tr>\n",
       "      <th>22</th>\n",
       "      <td>15.0</td>\n",
       "      <td>138000</td>\n",
       "      <td>138400</td>\n",
       "    </tr>\n",
       "    <tr>\n",
       "      <th>23</th>\n",
       "      <td>20.0</td>\n",
       "      <td>144000</td>\n",
       "      <td>144400</td>\n",
       "    </tr>\n",
       "  </tbody>\n",
       "</table>\n",
       "</div>"
      ],
      "text/plain": [
       "    trial  t_start   t_end\n",
       "0     2.0     6000    6400\n",
       "1     4.0    12000   12400\n",
       "2     6.0    18000   18400\n",
       "3    10.0    24000   24400\n",
       "4    15.0    30000   30400\n",
       "5    20.0    36000   36400\n",
       "6     2.0    42000   42400\n",
       "7     4.0    48000   48400\n",
       "8     6.0    54000   54400\n",
       "9    10.0    60000   60400\n",
       "10   15.0    66000   66400\n",
       "11   20.0    72000   72400\n",
       "12    2.0    78000   78400\n",
       "13    4.0    84000   84400\n",
       "14    6.0    90000   90400\n",
       "15   10.0    96000   96400\n",
       "16   15.0   102000  102400\n",
       "17   20.0   108000  108400\n",
       "18    2.0   114000  114400\n",
       "19    4.0   120000  120400\n",
       "20    6.0   126000  126400\n",
       "21   10.0   132000  132400\n",
       "22   15.0   138000  138400\n",
       "23   20.0   144000  144400"
      ]
     },
     "execution_count": 65,
     "metadata": {},
     "output_type": "execute_result"
    }
   ],
   "source": [
    "df_trial[\"t_start\"] = df_trial[\"t_start\"]*200\n",
    "df_trial[\"t_end\"] = df_trial[\"t_end\"]*200\n",
    "df_trial"
   ]
  },
  {
   "cell_type": "code",
   "execution_count": 66,
   "id": "b3235d2b-9dd1-4c56-8e63-819e483646b9",
   "metadata": {},
   "outputs": [],
   "source": [
    "bout_params = {\n",
    "    \"n_angles_avg\": 5,  # number of angles to average for tail tip angle\n",
    "    \"sigma\": 4,  # sigma for gaussian filter\n",
    "    \"high\": 10,  # high threshold for tail vigor\n",
    "    \"low\": 5,  # low threshold for tail vigor\n",
    "}\n",
    "mean_tip_angle = tail_angles[..., -bout_params[\"n_angles_avg\"] :].mean(-1)"
   ]
  },
  {
   "cell_type": "code",
   "execution_count": 75,
   "id": "afd89af1-84ed-41f2-b739-2d09897e3a5e",
   "metadata": {},
   "outputs": [
    {
     "data": {
      "text/plain": [
       "Text(0.5, 0.95, '20241017-F6-set001-factor:4.1')"
      ]
     },
     "execution_count": 75,
     "metadata": {},
     "output_type": "execute_result"
    },
    {
     "data": {
      "text/plain": [
       "<Figure size 640x480 with 0 Axes>"
      ]
     },
     "metadata": {},
     "output_type": "display_data"
    },
    {
     "data": {
      "image/png": "[encoded data removed]",
      "text/plain": [
       "<Figure size 1000x500 with 3 Axes>"
      ]
     },
     "metadata": {},
     "output_type": "display_data"
    }
   ],
   "source": [
    "# %matplotlib inline\n",
    "\n",
    "seconds = np.arange(0, 780,1)\n",
    "tick_locations = np.arange(0, 780,1)*200\n",
    "\n",
    "fig = plt.figure()\n",
    "fig, axes = plt.subplots(3,1, figsize=(10,5)) # 100 8\n",
    "\n",
    "ax1 = axes[0]\n",
    "ax1.set_ylabel(\"Eye angles (°)\")\n",
    "ax1.plot(eye_angles_filt[:, 0], color=\"b\", lw=0.5)\n",
    "ax1.plot(eye_angles_filt[:, 1], color=\"r\", lw=0.5)\n",
    "# Set ticks and labels\n",
    "ax1.set_xticks(tick_locations)\n",
    "ax1.set_xticklabels([f\"{s}\" for s in seconds])\n",
    "\n",
    "\n",
    "ax2 = axes[1]\n",
    "ax2.set_ylabel(\"Tail angle\")\n",
    "ax2.plot(mean_tip_angle, color=\"black\", lw=0.5)\n",
    "# Set ticks and labels\n",
    "ax2.set_xticks(tick_locations)\n",
    "ax2.set_xticklabels([f\"{s}\" for s in seconds])\n",
    "\n",
    "ax3 = axes[2]\n",
    "ax3.plot(np.zeros(len(y_motions)))\n",
    "ax3.stem(np.arange(len(y_motions)), y_motions, linefmt='purple', markerfmt=' ', basefmt=' ')\n",
    "ax3.scatter(ori_up_idxs, y_motions[ori_up_idxs], c='green', s=15, label='Valid Up')\n",
    "ax3.scatter(ori_down_idxs, y_motions[ori_down_idxs], c='red', s=15, label='Valid Down')\n",
    "# Set ticks and labels\n",
    "ax3.set_xticks(tick_locations)\n",
    "ax3.set_xticklabels([f\"{s}\" for s in seconds])\n",
    "\n",
    "\n",
    "for ax in axes:\n",
    "    for j in range(len(df_trial)):\n",
    "        if is_pc[j] == 0:\n",
    "            ax.axvspan(df_trial[\"t_start\"][j], df_trial[\"t_end\"][j], color='grey', alpha=0.3, lw=0.5, zorder=-100)\n",
    "        elif pc_only[j] == 1:\n",
    "            ax.axvspan(df_trial[\"t_start\"][j], df_trial[\"t_end\"][j], color='red', alpha=0.3, lw=0, zorder=-100)\n",
    "        if strike_only[j] == 1:\n",
    "            ax.axvspan(df_trial[\"t_start\"][j], df_trial[\"t_end\"][j], color='green', alpha=0.3, lw=0, zorder=-100)\n",
    "\n",
    "for ax in axes:\n",
    "    for episode in episodes:\n",
    "        ax.axvspan(episode[0], episode[-1], color='yellow', alpha=0.3, lw=0.5, zorder=-100)\n",
    "    ax.set_xlim(60*200, 62*200)\n",
    "\n",
    "\n",
    "title = f\"{fish_id}-set00{set_no}-factor:{factor}\"\n",
    "plt.suptitle(title, y=0.95)\n",
    "\n",
    "# plt.savefig(f\"{save_dir}/episode_behaviour.png\", transparent=None,\n",
    "#         facecolor='white', dpi = 500\n",
    "#        )"
   ]
  },
  {
   "cell_type": "markdown",
   "id": "6150c086-a186-44d8-bb41-f0f1c7a2dda4",
   "metadata": {},
   "source": [
    "# Save thirdline Data into csv"
   ]
  },
  {
   "cell_type": "code",
   "execution_count": 221,
   "id": "913be077-9e54-4595-a781-b144d0171a60",
   "metadata": {},
   "outputs": [],
   "source": [
    "df_up[\"ysft\"] = y_motions[df_up[\"ori\"].values]\n",
    "df_down[\"ysft\"] = y_motions[df_down[\"ori\"].values]\n",
    "\n",
    "df_up[\"is_up\"] = [1] * len(df_up)\n",
    "df_down[\"is_up\"] = [-1] * len(df_down)"
   ]
  },
  {
   "cell_type": "code",
   "execution_count": 222,
   "id": "e9527417-c505-4b1f-9311-76ff9e942612",
   "metadata": {},
   "outputs": [
    {
     "data": {
      "text/html": [
       "<div>\n",
       "<style scoped>\n",
       "    .dataframe tbody tr th:only-of-type {\n",
       "        vertical-align: middle;\n",
       "    }\n",
       "\n",
       "    .dataframe tbody tr th {\n",
       "        vertical-align: top;\n",
       "    }\n",
       "\n",
       "    .dataframe thead th {\n",
       "        text-align: right;\n",
       "    }\n",
       "</style>\n",
       "<table border=\"1\" class=\"dataframe\">\n",
       "  <thead>\n",
       "    <tr style=\"text-align: right;\">\n",
       "      <th></th>\n",
       "      <th>res</th>\n",
       "      <th>ori</th>\n",
       "      <th>ysft</th>\n",
       "      <th>is_up</th>\n",
       "    </tr>\n",
       "  </thead>\n",
       "  <tbody>\n",
       "    <tr>\n",
       "      <th>0</th>\n",
       "      <td>1023</td>\n",
       "      <td>12217</td>\n",
       "      <td>0.617648</td>\n",
       "      <td>1</td>\n",
       "    </tr>\n",
       "    <tr>\n",
       "      <th>1</th>\n",
       "      <td>1024</td>\n",
       "      <td>12218</td>\n",
       "      <td>0.286093</td>\n",
       "      <td>1</td>\n",
       "    </tr>\n",
       "    <tr>\n",
       "      <th>2</th>\n",
       "      <td>1030</td>\n",
       "      <td>12230</td>\n",
       "      <td>0.403434</td>\n",
       "      <td>1</td>\n",
       "    </tr>\n",
       "    <tr>\n",
       "      <th>3</th>\n",
       "      <td>1046</td>\n",
       "      <td>12337</td>\n",
       "      <td>0.672510</td>\n",
       "      <td>1</td>\n",
       "    </tr>\n",
       "    <tr>\n",
       "      <th>4</th>\n",
       "      <td>1047</td>\n",
       "      <td>12339</td>\n",
       "      <td>0.372129</td>\n",
       "      <td>1</td>\n",
       "    </tr>\n",
       "    <tr>\n",
       "      <th>...</th>\n",
       "      <td>...</td>\n",
       "      <td>...</td>\n",
       "      <td>...</td>\n",
       "      <td>...</td>\n",
       "    </tr>\n",
       "    <tr>\n",
       "      <th>470</th>\n",
       "      <td>13450</td>\n",
       "      <td>151473</td>\n",
       "      <td>-0.285060</td>\n",
       "      <td>-1</td>\n",
       "    </tr>\n",
       "    <tr>\n",
       "      <th>471</th>\n",
       "      <td>13451</td>\n",
       "      <td>151485</td>\n",
       "      <td>-0.225796</td>\n",
       "      <td>-1</td>\n",
       "    </tr>\n",
       "    <tr>\n",
       "      <th>472</th>\n",
       "      <td>13481</td>\n",
       "      <td>151751</td>\n",
       "      <td>-0.539023</td>\n",
       "      <td>-1</td>\n",
       "    </tr>\n",
       "    <tr>\n",
       "      <th>473</th>\n",
       "      <td>13482</td>\n",
       "      <td>151755</td>\n",
       "      <td>-0.361302</td>\n",
       "      <td>-1</td>\n",
       "    </tr>\n",
       "    <tr>\n",
       "      <th>474</th>\n",
       "      <td>13487</td>\n",
       "      <td>151773</td>\n",
       "      <td>-0.389226</td>\n",
       "      <td>-1</td>\n",
       "    </tr>\n",
       "  </tbody>\n",
       "</table>\n",
       "<p>475 rows × 4 columns</p>\n",
       "</div>"
      ],
      "text/plain": [
       "       res     ori      ysft  is_up\n",
       "0     1023   12217  0.617648      1\n",
       "1     1024   12218  0.286093      1\n",
       "2     1030   12230  0.403434      1\n",
       "3     1046   12337  0.672510      1\n",
       "4     1047   12339  0.372129      1\n",
       "..     ...     ...       ...    ...\n",
       "470  13450  151473 -0.285060     -1\n",
       "471  13451  151485 -0.225796     -1\n",
       "472  13481  151751 -0.539023     -1\n",
       "473  13482  151755 -0.361302     -1\n",
       "474  13487  151773 -0.389226     -1\n",
       "\n",
       "[475 rows x 4 columns]"
      ]
     },
     "execution_count": 222,
     "metadata": {},
     "output_type": "execute_result"
    }
   ],
   "source": [
    "pd.concat([df_up, df_down], axis=1).to_csv(f'{save_dir}/motion_f:{factor}.csv', index=False)\n",
    "combined_df = pd.concat([df_up, df_down], ignore_index=True)\n",
    "combined_df.to_csv(f'{save_dir}/y_shift_idx.csv', index=False)"
   ]
  },
  {
   "cell_type": "code",
   "execution_count": 223,
   "id": "54741f32-a935-48af-a1ae-0aa10188e22e",
   "metadata": {},
   "outputs": [
    {
     "data": {
      "text/html": [
       "<div>\n",
       "<style scoped>\n",
       "    .dataframe tbody tr th:only-of-type {\n",
       "        vertical-align: middle;\n",
       "    }\n",
       "\n",
       "    .dataframe tbody tr th {\n",
       "        vertical-align: top;\n",
       "    }\n",
       "\n",
       "    .dataframe thead th {\n",
       "        text-align: right;\n",
       "    }\n",
       "</style>\n",
       "<table border=\"1\" class=\"dataframe\">\n",
       "  <thead>\n",
       "    <tr style=\"text-align: right;\">\n",
       "      <th></th>\n",
       "      <th>index</th>\n",
       "      <th>res</th>\n",
       "      <th>ori</th>\n",
       "      <th>ysft</th>\n",
       "      <th>is_up</th>\n",
       "    </tr>\n",
       "  </thead>\n",
       "  <tbody>\n",
       "    <tr>\n",
       "      <th>0</th>\n",
       "      <td>0</td>\n",
       "      <td>1023</td>\n",
       "      <td>12217</td>\n",
       "      <td>0.617648</td>\n",
       "      <td>1</td>\n",
       "    </tr>\n",
       "    <tr>\n",
       "      <th>1</th>\n",
       "      <td>1</td>\n",
       "      <td>1024</td>\n",
       "      <td>12218</td>\n",
       "      <td>0.286093</td>\n",
       "      <td>1</td>\n",
       "    </tr>\n",
       "    <tr>\n",
       "      <th>2</th>\n",
       "      <td>250</td>\n",
       "      <td>1025</td>\n",
       "      <td>12219</td>\n",
       "      <td>-0.560890</td>\n",
       "      <td>-1</td>\n",
       "    </tr>\n",
       "    <tr>\n",
       "      <th>3</th>\n",
       "      <td>2</td>\n",
       "      <td>1030</td>\n",
       "      <td>12230</td>\n",
       "      <td>0.403434</td>\n",
       "      <td>1</td>\n",
       "    </tr>\n",
       "    <tr>\n",
       "      <th>4</th>\n",
       "      <td>251</td>\n",
       "      <td>1034</td>\n",
       "      <td>12234</td>\n",
       "      <td>-0.502497</td>\n",
       "      <td>-1</td>\n",
       "    </tr>\n",
       "    <tr>\n",
       "      <th>...</th>\n",
       "      <td>...</td>\n",
       "      <td>...</td>\n",
       "      <td>...</td>\n",
       "      <td>...</td>\n",
       "      <td>...</td>\n",
       "    </tr>\n",
       "    <tr>\n",
       "      <th>470</th>\n",
       "      <td>472</td>\n",
       "      <td>13481</td>\n",
       "      <td>151751</td>\n",
       "      <td>-0.539023</td>\n",
       "      <td>-1</td>\n",
       "    </tr>\n",
       "    <tr>\n",
       "      <th>471</th>\n",
       "      <td>473</td>\n",
       "      <td>13482</td>\n",
       "      <td>151755</td>\n",
       "      <td>-0.361302</td>\n",
       "      <td>-1</td>\n",
       "    </tr>\n",
       "    <tr>\n",
       "      <th>472</th>\n",
       "      <td>248</td>\n",
       "      <td>13486</td>\n",
       "      <td>151767</td>\n",
       "      <td>0.320968</td>\n",
       "      <td>1</td>\n",
       "    </tr>\n",
       "    <tr>\n",
       "      <th>473</th>\n",
       "      <td>474</td>\n",
       "      <td>13487</td>\n",
       "      <td>151773</td>\n",
       "      <td>-0.389226</td>\n",
       "      <td>-1</td>\n",
       "    </tr>\n",
       "    <tr>\n",
       "      <th>474</th>\n",
       "      <td>249</td>\n",
       "      <td>13705</td>\n",
       "      <td>154389</td>\n",
       "      <td>0.200408</td>\n",
       "      <td>1</td>\n",
       "    </tr>\n",
       "  </tbody>\n",
       "</table>\n",
       "<p>475 rows × 5 columns</p>\n",
       "</div>"
      ],
      "text/plain": [
       "     index    res     ori      ysft  is_up\n",
       "0        0   1023   12217  0.617648      1\n",
       "1        1   1024   12218  0.286093      1\n",
       "2      250   1025   12219 -0.560890     -1\n",
       "3        2   1030   12230  0.403434      1\n",
       "4      251   1034   12234 -0.502497     -1\n",
       "..     ...    ...     ...       ...    ...\n",
       "470    472  13481  151751 -0.539023     -1\n",
       "471    473  13482  151755 -0.361302     -1\n",
       "472    248  13486  151767  0.320968      1\n",
       "473    474  13487  151773 -0.389226     -1\n",
       "474    249  13705  154389  0.200408      1\n",
       "\n",
       "[475 rows x 5 columns]"
      ]
     },
     "execution_count": 223,
     "metadata": {},
     "output_type": "execute_result"
    }
   ],
   "source": [
    "combined_df.sort_values(by=\"ori\").reset_index()"
   ]
  },
  {
   "cell_type": "markdown",
   "id": "456bc26d-e6c5-454b-8ab2-213ed4a11fb5",
   "metadata": {},
   "source": [
    "# save fig of grouped-motions"
   ]
  },
  {
   "cell_type": "code",
   "execution_count": 224,
   "id": "71a8ed26-cb1c-41a7-b70c-75340677f819",
   "metadata": {},
   "outputs": [],
   "source": [
    "def group_elements(combined_df, max_distance=200):\n",
    "    sort_df = combined_df.sort_values(by=\"ori\").reset_index()\n",
    "    ori = sort_df[\"ori\"].values\n",
    "    res = sort_df[\"res\"].values\n",
    "    is_up = sort_df[\"is_up\"].values\n",
    "    \n",
    "    groups = []\n",
    "    current_ori_group = [ori[0]]  \n",
    "    current_res_group = [res[0]]\n",
    "    current_is_up_group = [is_up[0]]\n",
    "\n",
    "    for i in range(1, len(ori)):\n",
    "        if ori[i] - current_ori_group[-1] <= max_distance:\n",
    "            current_ori_group.append(ori[i])\n",
    "            current_res_group.append(res[i])\n",
    "            current_is_up_group.append(is_up[i])\n",
    "            \n",
    "        else:\n",
    "            df_group  = pd.DataFrame(\n",
    "                {\n",
    "                    \"res\" : current_res_group,\n",
    "                    \"ori\" : current_ori_group,\n",
    "                    \"is_up\": current_is_up_group\n",
    "                }\n",
    "            )\n",
    "            \n",
    "            groups.append(df_group)\n",
    "            current_ori_group = [ori[i]]\n",
    "            current_res_group = [res[i]]\n",
    "            current_is_up_group = [is_up[i]]\n",
    "    \n",
    "    df_group  = pd.DataFrame(\n",
    "                {\n",
    "                    \"res\" : current_res_group,\n",
    "                    \"ori\" : current_ori_group,\n",
    "                    \"is_up\": current_is_up_group\n",
    "                }\n",
    "            )\n",
    "            \n",
    "    groups.append(df_group)\n",
    "    \n",
    "    return groups"
   ]
  },
  {
   "cell_type": "code",
   "execution_count": 225,
   "id": "041483de-c5f6-41a7-9dcd-a06ebc57c990",
   "metadata": {},
   "outputs": [],
   "source": [
    "grouped_array = group_elements(combined_df, max_distance=200)"
   ]
  },
  {
   "cell_type": "code",
   "execution_count": 226,
   "id": "47dcd879-fadd-4a51-84cc-87858fca49a2",
   "metadata": {},
   "outputs": [
    {
     "data": {
      "text/plain": [
       "29"
      ]
     },
     "execution_count": 226,
     "metadata": {},
     "output_type": "execute_result"
    }
   ],
   "source": [
    "len(grouped_array)"
   ]
  },
  {
   "cell_type": "code",
   "execution_count": 227,
   "id": "5c7bae1d-7667-46fa-a3bc-b5d7fc31cd03",
   "metadata": {},
   "outputs": [
    {
     "data": {
      "text/html": [
       "<div>\n",
       "<style scoped>\n",
       "    .dataframe tbody tr th:only-of-type {\n",
       "        vertical-align: middle;\n",
       "    }\n",
       "\n",
       "    .dataframe tbody tr th {\n",
       "        vertical-align: top;\n",
       "    }\n",
       "\n",
       "    .dataframe thead th {\n",
       "        text-align: right;\n",
       "    }\n",
       "</style>\n",
       "<table border=\"1\" class=\"dataframe\">\n",
       "  <thead>\n",
       "    <tr style=\"text-align: right;\">\n",
       "      <th></th>\n",
       "      <th>res</th>\n",
       "      <th>ori</th>\n",
       "      <th>is_up</th>\n",
       "    </tr>\n",
       "  </thead>\n",
       "  <tbody>\n",
       "    <tr>\n",
       "      <th>0</th>\n",
       "      <td>1023</td>\n",
       "      <td>12217</td>\n",
       "      <td>1</td>\n",
       "    </tr>\n",
       "    <tr>\n",
       "      <th>1</th>\n",
       "      <td>1024</td>\n",
       "      <td>12218</td>\n",
       "      <td>1</td>\n",
       "    </tr>\n",
       "    <tr>\n",
       "      <th>2</th>\n",
       "      <td>1025</td>\n",
       "      <td>12219</td>\n",
       "      <td>-1</td>\n",
       "    </tr>\n",
       "    <tr>\n",
       "      <th>3</th>\n",
       "      <td>1030</td>\n",
       "      <td>12230</td>\n",
       "      <td>1</td>\n",
       "    </tr>\n",
       "    <tr>\n",
       "      <th>4</th>\n",
       "      <td>1034</td>\n",
       "      <td>12234</td>\n",
       "      <td>-1</td>\n",
       "    </tr>\n",
       "    <tr>\n",
       "      <th>5</th>\n",
       "      <td>1035</td>\n",
       "      <td>12237</td>\n",
       "      <td>-1</td>\n",
       "    </tr>\n",
       "    <tr>\n",
       "      <th>6</th>\n",
       "      <td>1046</td>\n",
       "      <td>12337</td>\n",
       "      <td>1</td>\n",
       "    </tr>\n",
       "    <tr>\n",
       "      <th>7</th>\n",
       "      <td>1047</td>\n",
       "      <td>12339</td>\n",
       "      <td>1</td>\n",
       "    </tr>\n",
       "    <tr>\n",
       "      <th>8</th>\n",
       "      <td>1048</td>\n",
       "      <td>12345</td>\n",
       "      <td>-1</td>\n",
       "    </tr>\n",
       "    <tr>\n",
       "      <th>9</th>\n",
       "      <td>1052</td>\n",
       "      <td>12365</td>\n",
       "      <td>1</td>\n",
       "    </tr>\n",
       "    <tr>\n",
       "      <th>10</th>\n",
       "      <td>1056</td>\n",
       "      <td>12371</td>\n",
       "      <td>-1</td>\n",
       "    </tr>\n",
       "    <tr>\n",
       "      <th>11</th>\n",
       "      <td>1057</td>\n",
       "      <td>12375</td>\n",
       "      <td>-1</td>\n",
       "    </tr>\n",
       "    <tr>\n",
       "      <th>12</th>\n",
       "      <td>1058</td>\n",
       "      <td>12381</td>\n",
       "      <td>-1</td>\n",
       "    </tr>\n",
       "    <tr>\n",
       "      <th>13</th>\n",
       "      <td>1062</td>\n",
       "      <td>12429</td>\n",
       "      <td>1</td>\n",
       "    </tr>\n",
       "    <tr>\n",
       "      <th>14</th>\n",
       "      <td>1066</td>\n",
       "      <td>12449</td>\n",
       "      <td>1</td>\n",
       "    </tr>\n",
       "    <tr>\n",
       "      <th>15</th>\n",
       "      <td>1067</td>\n",
       "      <td>12453</td>\n",
       "      <td>-1</td>\n",
       "    </tr>\n",
       "    <tr>\n",
       "      <th>16</th>\n",
       "      <td>1069</td>\n",
       "      <td>12477</td>\n",
       "      <td>1</td>\n",
       "    </tr>\n",
       "  </tbody>\n",
       "</table>\n",
       "</div>"
      ],
      "text/plain": [
       "     res    ori  is_up\n",
       "0   1023  12217      1\n",
       "1   1024  12218      1\n",
       "2   1025  12219     -1\n",
       "3   1030  12230      1\n",
       "4   1034  12234     -1\n",
       "5   1035  12237     -1\n",
       "6   1046  12337      1\n",
       "7   1047  12339      1\n",
       "8   1048  12345     -1\n",
       "9   1052  12365      1\n",
       "10  1056  12371     -1\n",
       "11  1057  12375     -1\n",
       "12  1058  12381     -1\n",
       "13  1062  12429      1\n",
       "14  1066  12449      1\n",
       "15  1067  12453     -1\n",
       "16  1069  12477      1"
      ]
     },
     "execution_count": 227,
     "metadata": {},
     "output_type": "execute_result"
    }
   ],
   "source": [
    "grouped_array[0]"
   ]
  },
  {
   "cell_type": "code",
   "execution_count": 233,
   "id": "d9a4ed94-a157-4549-9936-50dbed87045c",
   "metadata": {},
   "outputs": [
    {
     "data": {
      "text/plain": [
       "'1'"
      ]
     },
     "execution_count": 233,
     "metadata": {},
     "output_type": "execute_result"
    }
   ],
   "source": [
    "qwert = 1.3\n",
    "f\"{qwert:0.0f}\""
   ]
  },
  {
   "cell_type": "code",
   "execution_count": 235,
   "id": "bc404ca6-1205-4819-b4e7-73f2a2fddcd2",
   "metadata": {},
   "outputs": [
    {
     "name": "stderr",
     "output_type": "stream",
     "text": [
      "C:\\Users\\richa\\AppData\\Local\\Temp\\ipykernel_13424\\4159874354.py:9: RuntimeWarning: More than 20 figures have been opened. Figures created through the pyplot interface (`matplotlib.pyplot.figure`) are retained until explicitly closed and may consume too much memory. (To control this warning, see the rcParam `figure.max_open_warning`). Consider using `matplotlib.pyplot.close()`.\n",
      "  fig, axes = plt.subplots(3,1)\n",
      "C:\\Users\\richa\\AppData\\Local\\Temp\\ipykernel_13424\\4159874354.py:8: RuntimeWarning: More than 20 figures have been opened. Figures created through the pyplot interface (`matplotlib.pyplot.figure`) are retained until explicitly closed and may consume too much memory. (To control this warning, see the rcParam `figure.max_open_warning`). Consider using `matplotlib.pyplot.close()`.\n",
      "  fig = plt.figure()\n"
     ]
    },
    {
     "data": {
      "text/plain": [
       "<Figure size 640x480 with 0 Axes>"
      ]
     },
     "metadata": {},
     "output_type": "display_data"
    },
    {
     "data": {
      "text/plain": [
       "<Figure size 640x480 with 0 Axes>"
      ]
     },
     "metadata": {},
     "output_type": "display_data"
    },
    {
     "data": {
      "text/plain": [
       "<Figure size 640x480 with 0 Axes>"
      ]
     },
     "metadata": {},
     "output_type": "display_data"
    },
    {
     "data": {
      "text/plain": [
       "<Figure size 640x480 with 0 Axes>"
      ]
     },
     "metadata": {},
     "output_type": "display_data"
    },
    {
     "data": {
      "text/plain": [
       "<Figure size 640x480 with 0 Axes>"
      ]
     },
     "metadata": {},
     "output_type": "display_data"
    },
    {
     "data": {
      "text/plain": [
       "<Figure size 640x480 with 0 Axes>"
      ]
     },
     "metadata": {},
     "output_type": "display_data"
    },
    {
     "data": {
      "text/plain": [
       "<Figure size 640x480 with 0 Axes>"
      ]
     },
     "metadata": {},
     "output_type": "display_data"
    },
    {
     "data": {
      "text/plain": [
       "<Figure size 640x480 with 0 Axes>"
      ]
     },
     "metadata": {},
     "output_type": "display_data"
    },
    {
     "data": {
      "text/plain": [
       "<Figure size 640x480 with 0 Axes>"
      ]
     },
     "metadata": {},
     "output_type": "display_data"
    },
    {
     "data": {
      "text/plain": [
       "<Figure size 640x480 with 0 Axes>"
      ]
     },
     "metadata": {},
     "output_type": "display_data"
    },
    {
     "data": {
      "text/plain": [
       "<Figure size 640x480 with 0 Axes>"
      ]
     },
     "metadata": {},
     "output_type": "display_data"
    },
    {
     "data": {
      "text/plain": [
       "<Figure size 640x480 with 0 Axes>"
      ]
     },
     "metadata": {},
     "output_type": "display_data"
    },
    {
     "data": {
      "text/plain": [
       "<Figure size 640x480 with 0 Axes>"
      ]
     },
     "metadata": {},
     "output_type": "display_data"
    },
    {
     "data": {
      "text/plain": [
       "<Figure size 640x480 with 0 Axes>"
      ]
     },
     "metadata": {},
     "output_type": "display_data"
    },
    {
     "data": {
      "text/plain": [
       "<Figure size 640x480 with 0 Axes>"
      ]
     },
     "metadata": {},
     "output_type": "display_data"
    },
    {
     "data": {
      "text/plain": [
       "<Figure size 640x480 with 0 Axes>"
      ]
     },
     "metadata": {},
     "output_type": "display_data"
    },
    {
     "data": {
      "text/plain": [
       "<Figure size 640x480 with 0 Axes>"
      ]
     },
     "metadata": {},
     "output_type": "display_data"
    },
    {
     "data": {
      "text/plain": [
       "<Figure size 640x480 with 0 Axes>"
      ]
     },
     "metadata": {},
     "output_type": "display_data"
    },
    {
     "data": {
      "text/plain": [
       "<Figure size 640x480 with 0 Axes>"
      ]
     },
     "metadata": {},
     "output_type": "display_data"
    },
    {
     "data": {
      "text/plain": [
       "<Figure size 640x480 with 0 Axes>"
      ]
     },
     "metadata": {},
     "output_type": "display_data"
    },
    {
     "data": {
      "text/plain": [
       "<Figure size 640x480 with 0 Axes>"
      ]
     },
     "metadata": {},
     "output_type": "display_data"
    },
    {
     "data": {
      "text/plain": [
       "<Figure size 640x480 with 0 Axes>"
      ]
     },
     "metadata": {},
     "output_type": "display_data"
    },
    {
     "data": {
      "text/plain": [
       "<Figure size 640x480 with 0 Axes>"
      ]
     },
     "metadata": {},
     "output_type": "display_data"
    },
    {
     "data": {
      "text/plain": [
       "<Figure size 640x480 with 0 Axes>"
      ]
     },
     "metadata": {},
     "output_type": "display_data"
    },
    {
     "data": {
      "text/plain": [
       "<Figure size 640x480 with 0 Axes>"
      ]
     },
     "metadata": {},
     "output_type": "display_data"
    },
    {
     "data": {
      "text/plain": [
       "<Figure size 640x480 with 0 Axes>"
      ]
     },
     "metadata": {},
     "output_type": "display_data"
    },
    {
     "data": {
      "text/plain": [
       "<Figure size 640x480 with 0 Axes>"
      ]
     },
     "metadata": {},
     "output_type": "display_data"
    },
    {
     "data": {
      "text/plain": [
       "<Figure size 640x480 with 0 Axes>"
      ]
     },
     "metadata": {},
     "output_type": "display_data"
    },
    {
     "data": {
      "text/plain": [
       "<Figure size 640x480 with 0 Axes>"
      ]
     },
     "metadata": {},
     "output_type": "display_data"
    }
   ],
   "source": [
    "%matplotlib inline\n",
    "\n",
    "episode_dir = f\"{save_dir}/episode_f_{factor:0.0f}/\"\n",
    "Path(episode_dir).mkdir(parents=True, exist_ok=True)\n",
    "\n",
    "\n",
    "for index, group in enumerate(grouped_array):\n",
    "    fig = plt.figure()\n",
    "    fig, axes = plt.subplots(3,1)\n",
    "    \n",
    "    ax1 = axes[0]\n",
    "    ax1.set_ylabel(\"Eye angles (°)\")\n",
    "    ax1.plot(eye_angles_filt[:, 0], color=\"b\", lw=0.5)\n",
    "    ax1.plot(eye_angles_filt[:, 1], color=\"r\", lw=0.5)\n",
    "\n",
    "    \n",
    "    ax2 = axes[1]\n",
    "    ax2.set_ylabel(\"Tail angle\")\n",
    "    ax2.plot(mean_tip_angle, color=\"black\", lw=0.5)\n",
    "\n",
    "    \n",
    "    ax3 = axes[2]\n",
    "    ax3.plot(np.zeros(len(y_motions)))\n",
    "    ax3.stem(np.arange(len(y_motions)), y_motions, linefmt='purple', markerfmt=' ', basefmt=' ')\n",
    "    ax3.scatter(ori_up_idxs, y_motions[ori_up_idxs], c='green', s=15, label='Valid Up')\n",
    "    ax3.scatter(ori_down_idxs, y_motions[ori_down_idxs], c='red', s=15, label='Valid Down')\n",
    "\n",
    "    \n",
    "    for ax in axes:\n",
    "        for j in range(len(df_trial)):\n",
    "            if is_pc[j] == 0:\n",
    "                ax.axvspan(df_trial[\"t_start\"][j], df_trial[\"t_end\"][j], color='grey', alpha=0.3, lw=0.5, zorder=-100)\n",
    "            elif pc_only[j] == 1:\n",
    "                ax.axvspan(df_trial[\"t_start\"][j], df_trial[\"t_end\"][j], color='red', alpha=0.3, lw=0, zorder=-100)\n",
    "            if strike_only[j] == 1:\n",
    "                ax.axvspan(df_trial[\"t_start\"][j], df_trial[\"t_end\"][j], color='green', alpha=0.3, lw=0, zorder=-100)\n",
    "                \n",
    "        a = group[\"ori\"].values[0]-100\n",
    "        b = group[\"ori\"].values[-1]+100\n",
    "        ax.set_xlim(a, b)\n",
    "        ax.set_xticks((np.arange(a/200, b/200, 0.5)*200).astype(int) )\n",
    "        ax.set_xticklabels([f\"{s:0.2f}\" for s in np.arange(a/200, b/200, 0.5)])\n",
    "    title = f\"{group[\"res\"].values[0]}-{group[\"res\"].values[-1]}\"\n",
    "    plt.suptitle(title)\n",
    "    plt.savefig(f\"{episode_dir}/episode{index+1}.png\", transparent=None,facecolor='white', dpi = 500)\n",
    "    \n",
    "    plt.close()"
   ]
  },
  {
   "cell_type": "markdown",
   "id": "49fa390b-eb9a-4bff-ad33-b14653902cca",
   "metadata": {},
   "source": [
    "# output clips"
   ]
  },
  {
   "cell_type": "code",
   "execution_count": 237,
   "id": "b2cf5df9-52d7-4a78-87c8-200dbe648b0c",
   "metadata": {},
   "outputs": [],
   "source": [
    "total_frames = num_frames\n",
    "group = grouped_array[3]\n",
    "ori = group[\"ori\"].values\n",
    "res = group[\"res\"].values\n",
    "\n",
    "group_start = max(0, ori[0] - 100)\n",
    "group_end = min(total_frames - 1, ori[-1] + 100)"
   ]
  },
  {
   "cell_type": "code",
   "execution_count": 238,
   "id": "5505bc0c-439c-4134-a2de-24ebcfcd518b",
   "metadata": {},
   "outputs": [
    {
     "data": {
      "text/plain": [
       "np.int64(24029)"
      ]
     },
     "execution_count": 238,
     "metadata": {},
     "output_type": "execute_result"
    }
   ],
   "source": [
    "group_start"
   ]
  },
  {
   "cell_type": "code",
   "execution_count": 239,
   "id": "592b38be-937f-4c4b-a8ec-db721dc5630f",
   "metadata": {},
   "outputs": [
    {
     "data": {
      "text/plain": [
       "np.int64(24541)"
      ]
     },
     "execution_count": 239,
     "metadata": {},
     "output_type": "execute_result"
    }
   ],
   "source": [
    "group_end"
   ]
  },
  {
   "cell_type": "code",
   "execution_count": 241,
   "id": "3bbc5b1e-f151-4e84-a49a-de69b837e639",
   "metadata": {},
   "outputs": [],
   "source": [
    "%%capture\n",
    "\n",
    "import cv2\n",
    "import numpy as np\n",
    "import os\n",
    "\n",
    "def create_clips(video_path, grouped_array, output_folder):\n",
    "    os.makedirs(output_folder, exist_ok=True)\n",
    "    \n",
    "    # Open the video file\n",
    "    cap = cv2.VideoCapture(video_path)\n",
    "    \n",
    "    # Get video properties\n",
    "    fps = cap.get(cv2.CAP_PROP_FPS)\n",
    "    width = int(cap.get(cv2.CAP_PROP_FRAME_WIDTH))\n",
    "    height = int(cap.get(cv2.CAP_PROP_FRAME_HEIGHT))\n",
    "    total_frames = int(cap.get(cv2.CAP_PROP_FRAME_COUNT))\n",
    "    \n",
    "    # Process each group\n",
    "    for i, group in enumerate(grouped_array):\n",
    "        # Calculate start and end frames with buffer\n",
    "        ori = group[\"ori\"].values\n",
    "        res = group[\"res\"].values\n",
    "        is_up = group[\"is_up\"].values\n",
    "        \n",
    "        group_start = max(0, ori[0] - 100)\n",
    "        group_end = min(total_frames - 1, ori[-1] + 100)\n",
    "        \n",
    "        \n",
    "        # Calculate original group bounds for text display\n",
    "        original_start = ori[0]\n",
    "        original_end = ori[-1]\n",
    "        \n",
    "        # Set up video writer with 0.5x speed (double the duration)\n",
    "        fourcc = cv2.VideoWriter_fourcc(*'mp4v')\n",
    "        output_path = os.path.join(output_folder, f'clip_{i+1}.mp4')\n",
    "        out = cv2.VideoWriter(output_path, fourcc, fps * 0.2, (width, height))\n",
    "        \n",
    "        # Set text properties\n",
    "        font = cv2.FONT_HERSHEY_SIMPLEX\n",
    "        font_scale = 1\n",
    "        font_thickness = 3\n",
    "        text_color = (255, 255, 255)  # White\n",
    "        text_position = (45, 50)  # Top-Left corner\n",
    "        \n",
    "        # Seek to start frame\n",
    "        cap.set(cv2.CAP_PROP_POS_FRAMES, group_start)\n",
    "        \n",
    "        # Process frames in this group\n",
    "        for frame_num in range(group_start, group_end + 1):\n",
    "            ret, frame = cap.read()\n",
    "            if not ret:\n",
    "                break\n",
    "                \n",
    "            # Add \"episode\" text if within original group bounds\n",
    "            if frame_num in ori:\n",
    "                if (is_up[ori == frame_num][0] > 0):\n",
    "                    cv2.putText(frame, 'up', text_position, \n",
    "                               font, font_scale, (255,0,0), font_thickness)\n",
    "                elif (is_up[ori == frame_num][0] < 1):\n",
    "                    cv2.putText(frame, 'down', text_position, \n",
    "                               font, font_scale, (0,0,255), font_thickness)\n",
    "                \n",
    "            \n",
    "            # Write frame to output video\n",
    "            out.write(frame)\n",
    "        \n",
    "        # Release current video writer\n",
    "        out.release()\n",
    "        print(f'Created clip {i+1} ({group_start}-{group_end} frames)')\n",
    "    \n",
    "    # Release video capture\n",
    "    cap.release()\n",
    "    print(\"All clips created successfully!\")\n",
    "\n"
   ]
  },
  {
   "cell_type": "code",
   "execution_count": 242,
   "id": "c2403cd6-9de6-4547-8a64-b0ed040ce5ef",
   "metadata": {},
   "outputs": [
    {
     "name": "stdout",
     "output_type": "stream",
     "text": [
      "Created clip 1 (12117-12577 frames)\n",
      "Created clip 2 (15629-15829 frames)\n",
      "Created clip 3 (18038-18517 frames)\n",
      "Created clip 4 (24029-24541 frames)\n",
      "Created clip 5 (29995-30678 frames)\n",
      "Created clip 6 (35988-36760 frames)\n",
      "Created clip 7 (45701-45985 frames)\n",
      "Created clip 8 (48036-48385 frames)\n",
      "Created clip 9 (54058-54509 frames)\n",
      "Created clip 10 (62213-62413 frames)\n",
      "Created clip 11 (63893-64117 frames)\n",
      "Created clip 12 (66017-66217 frames)\n",
      "Created clip 13 (72005-72517 frames)\n",
      "Created clip 14 (73176-73408 frames)\n",
      "Created clip 15 (78437-78637 frames)\n",
      "Created clip 16 (90034-90565 frames)\n",
      "Created clip 17 (96044-96541 frames)\n",
      "Created clip 18 (102003-102445 frames)\n",
      "Created clip 19 (108023-108445 frames)\n",
      "Created clip 20 (115246-115657 frames)\n",
      "Created clip 21 (117099-117351 frames)\n",
      "Created clip 22 (120069-120517 frames)\n",
      "Created clip 23 (126058-126565 frames)\n",
      "Created clip 24 (131991-132505 frames)\n",
      "Created clip 25 (138059-138289 frames)\n",
      "Created clip 26 (144046-144493 frames)\n",
      "Created clip 27 (151313-151585 frames)\n",
      "Created clip 28 (151644-151873 frames)\n",
      "Created clip 29 (154289-154489 frames)\n",
      "All clips created successfully!\n"
     ]
    }
   ],
   "source": [
    "video_path = avi\n",
    "output_folder = f\"{save_dir}/episode_video_f_{factor:0.0f}/\"\n",
    "\n",
    "create_clips(video_path, grouped_array, output_folder)"
   ]
  },
  {
   "cell_type": "code",
   "execution_count": null,
   "id": "c1bf548c-b92f-4b1b-a1da-5d50e66cb3c6",
   "metadata": {},
   "outputs": [],
   "source": []
  }
 ],
 "metadata": {
  "kernelspec": {
   "display_name": "Python 3 (ipykernel)",
   "language": "python",
   "name": "python3"
  },
  "language_info": {
   "codemirror_mode": {
    "name": "ipython",
    "version": 3
   },
   "file_extension": ".py",
   "mimetype": "text/x-python",
   "name": "python",
   "nbconvert_exporter": "python",
   "pygments_lexer": "ipython3",
   "version": "3.13.1"
  }
 },
 "nbformat": 4,
 "nbformat_minor": 5
}
