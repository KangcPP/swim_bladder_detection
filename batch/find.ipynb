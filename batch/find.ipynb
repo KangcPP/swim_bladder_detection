{
 "cells": [
  {
   "cell_type": "code",
   "execution_count": 1,
   "id": "3f12cd10-9e44-465b-8f15-9061a34ea77f",
   "metadata": {},
   "outputs": [],
   "source": [
    "import numpy as np\n",
    "import matplotlib.pyplot as plt\n",
    "import pandas as pd\n",
    "from glob import glob\n",
    "from pathlib import Path\n",
    "import pywt"
   ]
  },
  {
   "cell_type": "code",
   "execution_count": 2,
   "id": "998d703d-cdfb-4364-ac76-1351cf916c0d",
   "metadata": {},
   "outputs": [],
   "source": [
    "####################### behaviour plottings\n",
    "\n",
    "def get_tail_angles(df_tail, heading):\n",
    "    xy = df_tail.values[:, ::2] + df_tail.values[:, 1::2] * 1j\n",
    "    midline = -np.exp(1j * np.deg2rad(np.asarray(heading)))\n",
    "    return -np.angle(np.diff(xy, axis=1) / midline[:, None])\n",
    "\n",
    "def load_data(h5_path, fs=200):\n",
    "    df_eye = pd.read_hdf(h5_path, \"eye\")\n",
    "    eye_angles = df_eye[[(\"left_eye\", \"angle\"), (\"right_eye\", \"angle\")]].values\n",
    "    df_tail = pd.read_hdf(h5_path, \"tail\")\n",
    "    tail_angles = get_tail_angles(df_tail, df_eye[\"heading\"].values)   \n",
    "\n",
    "    return eye_angles, tail_angles\n",
    "\n",
    "def low_pass_filt(x, fs, cutoff, axis=0, order=2):\n",
    "    from scipy.signal import butter, filtfilt\n",
    "\n",
    "    b, a = butter(order, cutoff / (fs / 2), btype=\"low\")\n",
    "    return filtfilt(b, a, x, axis=axis)\n"
   ]
  },
  {
   "cell_type": "code",
   "execution_count": 8,
   "id": "f46de195-024b-45c3-90e5-e8d6dca33759",
   "metadata": {},
   "outputs": [],
   "source": [
    "def wavelet_denoise(signal, wavelet='bior3.1', level=3, threshold_type='soft'): # pywt.wavelist(kind='discrete')\n",
    "    coeffs = pywt.wavedec(signal, wavelet, mode='per', level=level)  # Decompose\n",
    "    sigma = np.median(np.abs(coeffs[-level])) / 0.6745  # Noise estimation (MAD)\n",
    "    threshold = sigma * np.sqrt(2 * np.log(len(signal)))  # Universal threshold\n",
    "    coeffs_thresh = [pywt.threshold(c, threshold, mode=threshold_type) for c in coeffs]\n",
    "    return pywt.waverec(coeffs_thresh, wavelet, mode='per')  # Reconstruct"
   ]
  },
  {
   "cell_type": "code",
   "execution_count": 15,
   "id": "72f34e85-911d-47df-bc78-d3182b4a0bb5",
   "metadata": {},
   "outputs": [],
   "source": [
    "import numpy as np\n",
    "from scipy.ndimage import label, binary_closing, generate_binary_structure\n",
    "\n",
    "def detect_bouts(denoised_signal, window_size=5, closing_iterations=1, \n",
    "                 min_bout_length=10, threshold_multiplier=3):\n",
    "    \"\"\"\n",
    "    Detect increasing/decreasing bouts in a denoised signal.\n",
    "    \n",
    "    Parameters:\n",
    "        denoised_signal (array): Denoised 1D signal\n",
    "        window_size (int): Size of smoothing window for gradient\n",
    "        closing_iterations (int): Number of iterations for binary closing\n",
    "        min_bout_length (int): Minimum bout duration in samples\n",
    "        threshold_multiplier (float): MAD multiplier for adaptive threshold\n",
    "        \n",
    "    Returns:\n",
    "        list: List of bout dictionaries with start/end indices and type\n",
    "    \"\"\"\n",
    "    # Compute gradient\n",
    "    slope = np.gradient(denoised_signal)\n",
    "    \n",
    "    # Smooth gradient\n",
    "    if window_size > 1:\n",
    "        kernel = np.ones(window_size)/window_size\n",
    "        smoothed_slope = np.convolve(slope, kernel, mode='same')\n",
    "    else:\n",
    "        smoothed_slope = slope\n",
    "    \n",
    "    # Calculate adaptive threshold using MAD\n",
    "    mad = np.median(np.abs(smoothed_slope - np.median(smoothed_slope)))\n",
    "    slope_threshold = threshold_multiplier * mad\n",
    "    \n",
    "    # Thresholding\n",
    "    increasing = smoothed_slope > slope_threshold\n",
    "    decreasing = smoothed_slope < -slope_threshold\n",
    "    \n",
    "    # Morphological closing to merge nearby regions\n",
    "    struct = generate_binary_structure(1, 1)\n",
    "    increasing = binary_closing(increasing, structure=struct, iterations=closing_iterations)\n",
    "    decreasing = binary_closing(decreasing, structure=struct, iterations=closing_iterations)\n",
    "    \n",
    "    # Label regions\n",
    "    inc_labels, n_inc = label(increasing)\n",
    "    dec_labels, n_dec = label(decreasing)\n",
    "    \n",
    "    # Extract bouts from labels\n",
    "    def _get_bouts(labels, n_labels):\n",
    "        bouts = []\n",
    "        for i in range(1, n_labels+1):\n",
    "            indices = np.where(labels == i)[0]\n",
    "            if len(indices) == 0:\n",
    "                continue\n",
    "            start = indices[0]\n",
    "            end = indices[-1]\n",
    "            if (end - start + 1) >= min_bout_length:\n",
    "                bouts.append((start, end))\n",
    "        return bouts\n",
    "    \n",
    "    inc_bouts = _get_bouts(inc_labels, n_inc)\n",
    "    dec_bouts = _get_bouts(dec_labels, n_dec)\n",
    "    \n",
    "    # Combine and format results\n",
    "    all_bouts = []\n",
    "    for start, end in inc_bouts:\n",
    "        all_bouts.append({'start': start, 'end': end, 'type': 'increasing'})\n",
    "    for start, end in dec_bouts:\n",
    "        all_bouts.append({'start': start, 'end': end, 'type': 'decreasing'})\n",
    "    \n",
    "    # Sort by start index\n",
    "    all_bouts.sort(key=lambda x: x['start'])\n",
    "    \n",
    "    return all_bouts"
   ]
  },
  {
   "cell_type": "code",
   "execution_count": 11,
   "id": "fd9ec7e3-4031-4719-acc3-e96682c8a43e",
   "metadata": {},
   "outputs": [],
   "source": [
    "folders = glob(\"F:\\\\swim_motion_data\\\\lcr_kai\\\\*\")\n",
    "\n",
    "# folder  = folders[4]\n",
    "folder = \"F:\\\\swim_motion_data\\\\lcr_kai\\\\2024-08-01_F2_01-T1\"\n",
    "\n",
    "profix = folder.split(\"\\\\\")[-1]\n",
    "save_dir = f'F:\\\\swim_motion_data\\\\lcr_kai_v2\\\\{profix}'\n",
    "Path(save_dir).mkdir(parents=True, exist_ok=True)\n",
    "\n",
    "date = profix.split(\"_\")[0]\n",
    "fish_no = profix.split(\"_\")[1]\n",
    "set_no = profix.split(\"-\")[2][3:]\n",
    "trial_no = profix.split(\"-\")[-1][1:]\n",
    "\n",
    "h5_path = f\"F:\\\\Temp_opto\\\\{date}\\\\lcr\\\\TOPCAMERA\\\\{fish_no}\\\\{set_no}\\\\{date}_{set_no}_Trial{trial_no}.h5\"\n",
    "\n",
    "fs = 200  # target sampling frequency\n",
    "eye_angles, tail_angles = load_data(h5_path, fs)\n",
    "eye_angles_filt = low_pass_filt(eye_angles, fs, 2)\n",
    "bout_params = {\n",
    "    \"n_angles_avg\": 5,  # number of angles to average for tail tip angle\n",
    "    \"sigma\": 4,  # sigma for gaussian filter\n",
    "    \"high\": 10,  # high threshold for tail vigor\n",
    "    \"low\": 5,  # low threshold for tail vigor\n",
    "}\n",
    "mean_tip_angle = tail_angles[..., -bout_params[\"n_angles_avg\"] :].mean(-1)\n",
    "\n",
    "\n",
    "#### load top cam data\n",
    "top_df = pd.read_csv(f\"{folder}\\\\TOPCAM\\\\y_shift_idx.csv\")\n",
    "y_motions = np.load(f\"{folder}\\\\TOPCAM\\\\y_shift.npy\")\n",
    "up_idxs = top_df[\"ori\"].values[top_df[\"is_up\"].values == 1]\n",
    "down_idxs = top_df[\"ori\"].values[top_df[\"is_up\"].values == -1]\n",
    "\n",
    "#### load side cam data\n",
    "side_df = pd.read_csv(f\"{folder}\\\\SIDECAM\\\\x_shift_idx.csv\")\n",
    "x_motions = np.load(f\"{folder}\\\\SIDECAM\\\\x_shift.npy\")\n",
    "left_idxs = side_df[\"ori\"].values[side_df[\"is_left\"].values == 1]\n",
    "right_idxs = side_df[\"ori\"].values[side_df[\"is_left\"].values == -1]\n",
    "\n",
    "#### load old episode\n",
    "top_episodes = np.load(f\"{folder}\\\\TOPCAM\\\\episodes_idx.npy\")\n",
    "side_episodes = np.load(f\"{folder}\\\\SIDECAM\\\\episodes_idx.npy\")"
   ]
  },
  {
   "cell_type": "code",
   "execution_count": 12,
   "id": "47040430-7d2e-4ab5-8500-20fa05f80116",
   "metadata": {},
   "outputs": [],
   "source": [
    "filt_y =  wavelet_denoise(y_motions)\n",
    "filt_x =  wavelet_denoise(x_motions)"
   ]
  },
  {
   "cell_type": "code",
   "execution_count": 20,
   "id": "6281227d-38b0-4c14-a588-5a5b3a93e656",
   "metadata": {},
   "outputs": [],
   "source": [
    "bouts = detect_bouts(filt_y,\n",
    "                     window_size=5, # Controls gradient smoothing\n",
    "                     closing_iterations=4, # Controls gap merging\n",
    "                     min_bout_length=10, # Filters short fluctuations\n",
    "                     threshold_multiplier=3) # Adjusts sensitivity"
   ]
  },
  {
   "cell_type": "code",
   "execution_count": 21,
   "id": "e5b5d178-c4b1-489d-b612-512a0f93af11",
   "metadata": {},
   "outputs": [
    {
     "name": "stdout",
     "output_type": "stream",
     "text": [
      "247\n"
     ]
    },
    {
     "data": {
      "text/plain": [
       "(78000.0, 78800.0)"
      ]
     },
     "execution_count": 21,
     "metadata": {},
     "output_type": "execute_result"
    },
    {
     "data": {
      "image/png": "[encoded data removed]",
      "text/plain": [
       "<Figure size 640x480 with 1 Axes>"
      ]
     },
     "metadata": {},
     "output_type": "display_data"
    }
   ],
   "source": [
    "xlim = np.array([390, 394])\n",
    "print(len(bouts))\n",
    "plt.plot(filt_y)\n",
    "for bout in bouts:\n",
    "    plt.axvspan(bout[\"start\"], bout[\"end\"], color='r')\n",
    "plt.xlim(xlim*200)"
   ]
  },
  {
   "cell_type": "code",
   "execution_count": null,
   "id": "cbd16366-c320-427f-aaa3-010c428c7ed7",
   "metadata": {},
   "outputs": [],
   "source": []
  }
 ],
 "metadata": {
  "kernelspec": {
   "display_name": "Python 3 (ipykernel)",
   "language": "python",
   "name": "python3"
  },
  "language_info": {
   "codemirror_mode": {
    "name": "ipython",
    "version": 3
   },
   "file_extension": ".py",
   "mimetype": "text/x-python",
   "name": "python",
   "nbconvert_exporter": "python",
   "pygments_lexer": "ipython3",
   "version": "3.13.1"
  }
 },
 "nbformat": 4,
 "nbformat_minor": 5
}
